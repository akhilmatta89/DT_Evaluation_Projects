{
 "cells": [
  {
   "cell_type": "markdown",
   "id": "4ebc1d1a",
   "metadata": {},
   "source": [
    "##### Problem Statement:\n",
    "This dataset includes details of applicants who have applied for loan. The dataset includes details like credit history, loan amount, their income, dependents etc. \n",
    "\n",
    "Independent Variables:\n",
    "\n",
    "- Loan_ID\n",
    "\n",
    "- Gender\n",
    "\n",
    "- Married\n",
    "\n",
    "- Dependents\n",
    "\n",
    "- Education\n",
    "\n",
    "- Self_Employed\n",
    "\n",
    "- ApplicantIncome\n",
    "\n",
    "- CoapplicantIncome\n",
    "\n",
    "- Loan_Amount\n",
    "\n",
    "- Loan_Amount_Term\n",
    "\n",
    "- Credit History\n",
    "\n",
    "- Property_Area\n",
    "\n",
    "Dependent Variable (Target Variable):\n",
    "\n",
    "- Loan_Status\n",
    "\n",
    "You have to build a model that can predict whether the loan of the applicant will be approved or not on the basis of the details provided in the dataset. "
   ]
  },
  {
   "cell_type": "code",
   "execution_count": 341,
   "id": "e47e4be0",
   "metadata": {},
   "outputs": [],
   "source": [
    "# Importing Basic libraries\n",
    "import pandas as pd\n",
    "import numpy as np\n",
    "import matplotlib.pyplot as plt\n",
    "import seaborn as sns\n",
    "import warnings\n",
    "warnings.filterwarnings('ignore')"
   ]
  },
  {
   "cell_type": "markdown",
   "id": "e7049afe",
   "metadata": {},
   "source": [
    "##### Loading the DataFrame"
   ]
  },
  {
   "cell_type": "code",
   "execution_count": 342,
   "id": "b4e42436",
   "metadata": {},
   "outputs": [
    {
     "data": {
      "text/html": [
       "<div>\n",
       "<style scoped>\n",
       "    .dataframe tbody tr th:only-of-type {\n",
       "        vertical-align: middle;\n",
       "    }\n",
       "\n",
       "    .dataframe tbody tr th {\n",
       "        vertical-align: top;\n",
       "    }\n",
       "\n",
       "    .dataframe thead th {\n",
       "        text-align: right;\n",
       "    }\n",
       "</style>\n",
       "<table border=\"1\" class=\"dataframe\">\n",
       "  <thead>\n",
       "    <tr style=\"text-align: right;\">\n",
       "      <th></th>\n",
       "      <th>Loan_ID</th>\n",
       "      <th>Gender</th>\n",
       "      <th>Married</th>\n",
       "      <th>Dependents</th>\n",
       "      <th>Education</th>\n",
       "      <th>Self_Employed</th>\n",
       "      <th>ApplicantIncome</th>\n",
       "      <th>CoapplicantIncome</th>\n",
       "      <th>LoanAmount</th>\n",
       "      <th>Loan_Amount_Term</th>\n",
       "      <th>Credit_History</th>\n",
       "      <th>Property_Area</th>\n",
       "      <th>Loan_Status</th>\n",
       "    </tr>\n",
       "  </thead>\n",
       "  <tbody>\n",
       "    <tr>\n",
       "      <th>0</th>\n",
       "      <td>LP001002</td>\n",
       "      <td>Male</td>\n",
       "      <td>No</td>\n",
       "      <td>0</td>\n",
       "      <td>Graduate</td>\n",
       "      <td>No</td>\n",
       "      <td>5849</td>\n",
       "      <td>0.0</td>\n",
       "      <td>NaN</td>\n",
       "      <td>360.0</td>\n",
       "      <td>1.0</td>\n",
       "      <td>Urban</td>\n",
       "      <td>Y</td>\n",
       "    </tr>\n",
       "    <tr>\n",
       "      <th>1</th>\n",
       "      <td>LP001003</td>\n",
       "      <td>Male</td>\n",
       "      <td>Yes</td>\n",
       "      <td>1</td>\n",
       "      <td>Graduate</td>\n",
       "      <td>No</td>\n",
       "      <td>4583</td>\n",
       "      <td>1508.0</td>\n",
       "      <td>128.0</td>\n",
       "      <td>360.0</td>\n",
       "      <td>1.0</td>\n",
       "      <td>Rural</td>\n",
       "      <td>N</td>\n",
       "    </tr>\n",
       "    <tr>\n",
       "      <th>2</th>\n",
       "      <td>LP001005</td>\n",
       "      <td>Male</td>\n",
       "      <td>Yes</td>\n",
       "      <td>0</td>\n",
       "      <td>Graduate</td>\n",
       "      <td>Yes</td>\n",
       "      <td>3000</td>\n",
       "      <td>0.0</td>\n",
       "      <td>66.0</td>\n",
       "      <td>360.0</td>\n",
       "      <td>1.0</td>\n",
       "      <td>Urban</td>\n",
       "      <td>Y</td>\n",
       "    </tr>\n",
       "    <tr>\n",
       "      <th>3</th>\n",
       "      <td>LP001006</td>\n",
       "      <td>Male</td>\n",
       "      <td>Yes</td>\n",
       "      <td>0</td>\n",
       "      <td>Not Graduate</td>\n",
       "      <td>No</td>\n",
       "      <td>2583</td>\n",
       "      <td>2358.0</td>\n",
       "      <td>120.0</td>\n",
       "      <td>360.0</td>\n",
       "      <td>1.0</td>\n",
       "      <td>Urban</td>\n",
       "      <td>Y</td>\n",
       "    </tr>\n",
       "    <tr>\n",
       "      <th>4</th>\n",
       "      <td>LP001008</td>\n",
       "      <td>Male</td>\n",
       "      <td>No</td>\n",
       "      <td>0</td>\n",
       "      <td>Graduate</td>\n",
       "      <td>No</td>\n",
       "      <td>6000</td>\n",
       "      <td>0.0</td>\n",
       "      <td>141.0</td>\n",
       "      <td>360.0</td>\n",
       "      <td>1.0</td>\n",
       "      <td>Urban</td>\n",
       "      <td>Y</td>\n",
       "    </tr>\n",
       "    <tr>\n",
       "      <th>...</th>\n",
       "      <td>...</td>\n",
       "      <td>...</td>\n",
       "      <td>...</td>\n",
       "      <td>...</td>\n",
       "      <td>...</td>\n",
       "      <td>...</td>\n",
       "      <td>...</td>\n",
       "      <td>...</td>\n",
       "      <td>...</td>\n",
       "      <td>...</td>\n",
       "      <td>...</td>\n",
       "      <td>...</td>\n",
       "      <td>...</td>\n",
       "    </tr>\n",
       "    <tr>\n",
       "      <th>609</th>\n",
       "      <td>LP002978</td>\n",
       "      <td>Female</td>\n",
       "      <td>No</td>\n",
       "      <td>0</td>\n",
       "      <td>Graduate</td>\n",
       "      <td>No</td>\n",
       "      <td>2900</td>\n",
       "      <td>0.0</td>\n",
       "      <td>71.0</td>\n",
       "      <td>360.0</td>\n",
       "      <td>1.0</td>\n",
       "      <td>Rural</td>\n",
       "      <td>Y</td>\n",
       "    </tr>\n",
       "    <tr>\n",
       "      <th>610</th>\n",
       "      <td>LP002979</td>\n",
       "      <td>Male</td>\n",
       "      <td>Yes</td>\n",
       "      <td>3+</td>\n",
       "      <td>Graduate</td>\n",
       "      <td>No</td>\n",
       "      <td>4106</td>\n",
       "      <td>0.0</td>\n",
       "      <td>40.0</td>\n",
       "      <td>180.0</td>\n",
       "      <td>1.0</td>\n",
       "      <td>Rural</td>\n",
       "      <td>Y</td>\n",
       "    </tr>\n",
       "    <tr>\n",
       "      <th>611</th>\n",
       "      <td>LP002983</td>\n",
       "      <td>Male</td>\n",
       "      <td>Yes</td>\n",
       "      <td>1</td>\n",
       "      <td>Graduate</td>\n",
       "      <td>No</td>\n",
       "      <td>8072</td>\n",
       "      <td>240.0</td>\n",
       "      <td>253.0</td>\n",
       "      <td>360.0</td>\n",
       "      <td>1.0</td>\n",
       "      <td>Urban</td>\n",
       "      <td>Y</td>\n",
       "    </tr>\n",
       "    <tr>\n",
       "      <th>612</th>\n",
       "      <td>LP002984</td>\n",
       "      <td>Male</td>\n",
       "      <td>Yes</td>\n",
       "      <td>2</td>\n",
       "      <td>Graduate</td>\n",
       "      <td>No</td>\n",
       "      <td>7583</td>\n",
       "      <td>0.0</td>\n",
       "      <td>187.0</td>\n",
       "      <td>360.0</td>\n",
       "      <td>1.0</td>\n",
       "      <td>Urban</td>\n",
       "      <td>Y</td>\n",
       "    </tr>\n",
       "    <tr>\n",
       "      <th>613</th>\n",
       "      <td>LP002990</td>\n",
       "      <td>Female</td>\n",
       "      <td>No</td>\n",
       "      <td>0</td>\n",
       "      <td>Graduate</td>\n",
       "      <td>Yes</td>\n",
       "      <td>4583</td>\n",
       "      <td>0.0</td>\n",
       "      <td>133.0</td>\n",
       "      <td>360.0</td>\n",
       "      <td>0.0</td>\n",
       "      <td>Semiurban</td>\n",
       "      <td>N</td>\n",
       "    </tr>\n",
       "  </tbody>\n",
       "</table>\n",
       "<p>614 rows × 13 columns</p>\n",
       "</div>"
      ],
      "text/plain": [
       "      Loan_ID  Gender Married Dependents     Education Self_Employed  \\\n",
       "0    LP001002    Male      No          0      Graduate            No   \n",
       "1    LP001003    Male     Yes          1      Graduate            No   \n",
       "2    LP001005    Male     Yes          0      Graduate           Yes   \n",
       "3    LP001006    Male     Yes          0  Not Graduate            No   \n",
       "4    LP001008    Male      No          0      Graduate            No   \n",
       "..        ...     ...     ...        ...           ...           ...   \n",
       "609  LP002978  Female      No          0      Graduate            No   \n",
       "610  LP002979    Male     Yes         3+      Graduate            No   \n",
       "611  LP002983    Male     Yes          1      Graduate            No   \n",
       "612  LP002984    Male     Yes          2      Graduate            No   \n",
       "613  LP002990  Female      No          0      Graduate           Yes   \n",
       "\n",
       "     ApplicantIncome  CoapplicantIncome  LoanAmount  Loan_Amount_Term  \\\n",
       "0               5849                0.0         NaN             360.0   \n",
       "1               4583             1508.0       128.0             360.0   \n",
       "2               3000                0.0        66.0             360.0   \n",
       "3               2583             2358.0       120.0             360.0   \n",
       "4               6000                0.0       141.0             360.0   \n",
       "..               ...                ...         ...               ...   \n",
       "609             2900                0.0        71.0             360.0   \n",
       "610             4106                0.0        40.0             180.0   \n",
       "611             8072              240.0       253.0             360.0   \n",
       "612             7583                0.0       187.0             360.0   \n",
       "613             4583                0.0       133.0             360.0   \n",
       "\n",
       "     Credit_History Property_Area Loan_Status  \n",
       "0               1.0         Urban           Y  \n",
       "1               1.0         Rural           N  \n",
       "2               1.0         Urban           Y  \n",
       "3               1.0         Urban           Y  \n",
       "4               1.0         Urban           Y  \n",
       "..              ...           ...         ...  \n",
       "609             1.0         Rural           Y  \n",
       "610             1.0         Rural           Y  \n",
       "611             1.0         Urban           Y  \n",
       "612             1.0         Urban           Y  \n",
       "613             0.0     Semiurban           N  \n",
       "\n",
       "[614 rows x 13 columns]"
      ]
     },
     "execution_count": 342,
     "metadata": {},
     "output_type": "execute_result"
    }
   ],
   "source": [
    "df = pd.read_csv('https://raw.githubusercontent.com/dsrscientist/DSData/master/loan_prediction.csv')\n",
    "df"
   ]
  },
  {
   "cell_type": "markdown",
   "id": "ed8ae128",
   "metadata": {},
   "source": [
    "#### Statistical Information"
   ]
  },
  {
   "cell_type": "code",
   "execution_count": 343,
   "id": "85f22206",
   "metadata": {},
   "outputs": [
    {
     "data": {
      "text/plain": [
       "(614, 13)"
      ]
     },
     "execution_count": 343,
     "metadata": {},
     "output_type": "execute_result"
    }
   ],
   "source": [
    "df.shape"
   ]
  },
  {
   "cell_type": "markdown",
   "id": "6500eaa4",
   "metadata": {},
   "source": [
    "- we have 614 rows and 13 columns"
   ]
  },
  {
   "cell_type": "code",
   "execution_count": 344,
   "id": "35bd86f2",
   "metadata": {},
   "outputs": [
    {
     "name": "stdout",
     "output_type": "stream",
     "text": [
      "<class 'pandas.core.frame.DataFrame'>\n",
      "RangeIndex: 614 entries, 0 to 613\n",
      "Data columns (total 13 columns):\n",
      " #   Column             Non-Null Count  Dtype  \n",
      "---  ------             --------------  -----  \n",
      " 0   Loan_ID            614 non-null    object \n",
      " 1   Gender             601 non-null    object \n",
      " 2   Married            611 non-null    object \n",
      " 3   Dependents         599 non-null    object \n",
      " 4   Education          614 non-null    object \n",
      " 5   Self_Employed      582 non-null    object \n",
      " 6   ApplicantIncome    614 non-null    int64  \n",
      " 7   CoapplicantIncome  614 non-null    float64\n",
      " 8   LoanAmount         592 non-null    float64\n",
      " 9   Loan_Amount_Term   600 non-null    float64\n",
      " 10  Credit_History     564 non-null    float64\n",
      " 11  Property_Area      614 non-null    object \n",
      " 12  Loan_Status        614 non-null    object \n",
      "dtypes: float64(4), int64(1), object(8)\n",
      "memory usage: 62.5+ KB\n"
     ]
    }
   ],
   "source": [
    "df.info()"
   ]
  },
  {
   "cell_type": "markdown",
   "id": "0aadb997",
   "metadata": {},
   "source": [
    "- All features are of categeorical data except ApplicantIncome,CoapplicantIncome,LoanAmount,Loan_Amount_Term,Credit_History"
   ]
  },
  {
   "cell_type": "code",
   "execution_count": 345,
   "id": "9326f025",
   "metadata": {},
   "outputs": [
    {
     "data": {
      "text/html": [
       "<div>\n",
       "<style scoped>\n",
       "    .dataframe tbody tr th:only-of-type {\n",
       "        vertical-align: middle;\n",
       "    }\n",
       "\n",
       "    .dataframe tbody tr th {\n",
       "        vertical-align: top;\n",
       "    }\n",
       "\n",
       "    .dataframe thead th {\n",
       "        text-align: right;\n",
       "    }\n",
       "</style>\n",
       "<table border=\"1\" class=\"dataframe\">\n",
       "  <thead>\n",
       "    <tr style=\"text-align: right;\">\n",
       "      <th></th>\n",
       "      <th>ApplicantIncome</th>\n",
       "      <th>CoapplicantIncome</th>\n",
       "      <th>LoanAmount</th>\n",
       "      <th>Loan_Amount_Term</th>\n",
       "      <th>Credit_History</th>\n",
       "    </tr>\n",
       "  </thead>\n",
       "  <tbody>\n",
       "    <tr>\n",
       "      <th>count</th>\n",
       "      <td>614.000000</td>\n",
       "      <td>614.000000</td>\n",
       "      <td>592.000000</td>\n",
       "      <td>600.00000</td>\n",
       "      <td>564.000000</td>\n",
       "    </tr>\n",
       "    <tr>\n",
       "      <th>mean</th>\n",
       "      <td>5403.459283</td>\n",
       "      <td>1621.245798</td>\n",
       "      <td>146.412162</td>\n",
       "      <td>342.00000</td>\n",
       "      <td>0.842199</td>\n",
       "    </tr>\n",
       "    <tr>\n",
       "      <th>std</th>\n",
       "      <td>6109.041673</td>\n",
       "      <td>2926.248369</td>\n",
       "      <td>85.587325</td>\n",
       "      <td>65.12041</td>\n",
       "      <td>0.364878</td>\n",
       "    </tr>\n",
       "    <tr>\n",
       "      <th>min</th>\n",
       "      <td>150.000000</td>\n",
       "      <td>0.000000</td>\n",
       "      <td>9.000000</td>\n",
       "      <td>12.00000</td>\n",
       "      <td>0.000000</td>\n",
       "    </tr>\n",
       "    <tr>\n",
       "      <th>25%</th>\n",
       "      <td>2877.500000</td>\n",
       "      <td>0.000000</td>\n",
       "      <td>100.000000</td>\n",
       "      <td>360.00000</td>\n",
       "      <td>1.000000</td>\n",
       "    </tr>\n",
       "    <tr>\n",
       "      <th>50%</th>\n",
       "      <td>3812.500000</td>\n",
       "      <td>1188.500000</td>\n",
       "      <td>128.000000</td>\n",
       "      <td>360.00000</td>\n",
       "      <td>1.000000</td>\n",
       "    </tr>\n",
       "    <tr>\n",
       "      <th>75%</th>\n",
       "      <td>5795.000000</td>\n",
       "      <td>2297.250000</td>\n",
       "      <td>168.000000</td>\n",
       "      <td>360.00000</td>\n",
       "      <td>1.000000</td>\n",
       "    </tr>\n",
       "    <tr>\n",
       "      <th>max</th>\n",
       "      <td>81000.000000</td>\n",
       "      <td>41667.000000</td>\n",
       "      <td>700.000000</td>\n",
       "      <td>480.00000</td>\n",
       "      <td>1.000000</td>\n",
       "    </tr>\n",
       "  </tbody>\n",
       "</table>\n",
       "</div>"
      ],
      "text/plain": [
       "       ApplicantIncome  CoapplicantIncome  LoanAmount  Loan_Amount_Term  \\\n",
       "count       614.000000         614.000000  592.000000         600.00000   \n",
       "mean       5403.459283        1621.245798  146.412162         342.00000   \n",
       "std        6109.041673        2926.248369   85.587325          65.12041   \n",
       "min         150.000000           0.000000    9.000000          12.00000   \n",
       "25%        2877.500000           0.000000  100.000000         360.00000   \n",
       "50%        3812.500000        1188.500000  128.000000         360.00000   \n",
       "75%        5795.000000        2297.250000  168.000000         360.00000   \n",
       "max       81000.000000       41667.000000  700.000000         480.00000   \n",
       "\n",
       "       Credit_History  \n",
       "count      564.000000  \n",
       "mean         0.842199  \n",
       "std          0.364878  \n",
       "min          0.000000  \n",
       "25%          1.000000  \n",
       "50%          1.000000  \n",
       "75%          1.000000  \n",
       "max          1.000000  "
      ]
     },
     "execution_count": 345,
     "metadata": {},
     "output_type": "execute_result"
    }
   ],
   "source": [
    "df.describe()"
   ]
  },
  {
   "cell_type": "markdown",
   "id": "82ea5dc7",
   "metadata": {},
   "source": [
    "- There is lot of difference b/w 75% and max ,we can assume that outliers will be present\n",
    "- we can spot difference in mean and std which says skewness is present in the data"
   ]
  },
  {
   "cell_type": "code",
   "execution_count": 346,
   "id": "cce7653f",
   "metadata": {},
   "outputs": [
    {
     "data": {
      "text/plain": [
       "Index(['Loan_ID', 'Gender', 'Married', 'Dependents', 'Education',\n",
       "       'Self_Employed', 'ApplicantIncome', 'CoapplicantIncome', 'LoanAmount',\n",
       "       'Loan_Amount_Term', 'Credit_History', 'Property_Area', 'Loan_Status'],\n",
       "      dtype='object')"
      ]
     },
     "execution_count": 346,
     "metadata": {},
     "output_type": "execute_result"
    }
   ],
   "source": [
    "df.columns"
   ]
  },
  {
   "cell_type": "markdown",
   "id": "282fdd78",
   "metadata": {},
   "source": [
    "#### Getting all object type unique values "
   ]
  },
  {
   "cell_type": "code",
   "execution_count": 347,
   "id": "b5d1a861",
   "metadata": {},
   "outputs": [
    {
     "data": {
      "text/plain": [
       "['Loan_ID',\n",
       " 'Gender',\n",
       " 'Married',\n",
       " 'Dependents',\n",
       " 'Education',\n",
       " 'Self_Employed',\n",
       " 'Property_Area',\n",
       " 'Loan_Status']"
      ]
     },
     "execution_count": 347,
     "metadata": {},
     "output_type": "execute_result"
    }
   ],
   "source": [
    "features_list = []\n",
    "for feature_type in df.dtypes.index:\n",
    "    if df.dtypes[feature_type]=='object':\n",
    "        features_list.append(feature_type)\n",
    "features_list"
   ]
  },
  {
   "cell_type": "code",
   "execution_count": 348,
   "id": "f4758437",
   "metadata": {},
   "outputs": [
    {
     "name": "stdout",
     "output_type": "stream",
     "text": [
      "Loan_ID\n",
      "LP001002    1\n",
      "LP002328    1\n",
      "LP002305    1\n",
      "LP002308    1\n",
      "LP002314    1\n",
      "           ..\n",
      "LP001692    1\n",
      "LP001693    1\n",
      "LP001698    1\n",
      "LP001699    1\n",
      "LP002990    1\n",
      "Name: Loan_ID, Length: 614, dtype: int64\n",
      "--------------------------------------\n",
      "Gender\n",
      "Male      489\n",
      "Female    112\n",
      "Name: Gender, dtype: int64\n",
      "--------------------------------------\n",
      "Married\n",
      "Yes    398\n",
      "No     213\n",
      "Name: Married, dtype: int64\n",
      "--------------------------------------\n",
      "Dependents\n",
      "0     345\n",
      "1     102\n",
      "2     101\n",
      "3+     51\n",
      "Name: Dependents, dtype: int64\n",
      "--------------------------------------\n",
      "Education\n",
      "Graduate        480\n",
      "Not Graduate    134\n",
      "Name: Education, dtype: int64\n",
      "--------------------------------------\n",
      "Self_Employed\n",
      "No     500\n",
      "Yes     82\n",
      "Name: Self_Employed, dtype: int64\n",
      "--------------------------------------\n",
      "Property_Area\n",
      "Semiurban    233\n",
      "Urban        202\n",
      "Rural        179\n",
      "Name: Property_Area, dtype: int64\n",
      "--------------------------------------\n",
      "Loan_Status\n",
      "Y    422\n",
      "N    192\n",
      "Name: Loan_Status, dtype: int64\n",
      "--------------------------------------\n"
     ]
    }
   ],
   "source": [
    "for feature in features_list:\n",
    "    print(feature)\n",
    "    print(df[feature].value_counts())\n",
    "    print('--------------------------------------')"
   ]
  },
  {
   "cell_type": "code",
   "execution_count": 349,
   "id": "f8110407",
   "metadata": {},
   "outputs": [
    {
     "data": {
      "text/plain": [
       "614"
      ]
     },
     "execution_count": 349,
     "metadata": {},
     "output_type": "execute_result"
    }
   ],
   "source": [
    "df.Loan_ID.value_counts().sum()"
   ]
  },
  {
   "cell_type": "markdown",
   "id": "565fc81f",
   "metadata": {},
   "source": [
    "- we can drop the Load id as it is not userful in generating a model"
   ]
  },
  {
   "cell_type": "code",
   "execution_count": 350,
   "id": "ce6c33c8",
   "metadata": {},
   "outputs": [],
   "source": [
    "# Dropping the unwanted column\n",
    "df.drop(columns=['Loan_ID'],inplace=True,axis=1)"
   ]
  },
  {
   "cell_type": "markdown",
   "id": "386ec0da",
   "metadata": {},
   "source": [
    "- we have 2 categeories in feature Gender\n",
    "    * Male      489\n",
    "    * Female    112\n",
    "- we have 2 categeories in feature Married\n",
    "    * Yes    398\n",
    "    * No     213\n",
    "- we have 4 categeories in feature Dependents\n",
    "    * 0     345\n",
    "    * 1     102\n",
    "    * 2     101\n",
    "    * 3+     51\n",
    "- we have 2 categeories in feature Education\n",
    "    * Graduate        480\n",
    "    * Not Graduate    134\n",
    "- we have 2 categeories in feature Self_Employed\n",
    "    * No     500\n",
    "    * Yes     82\n",
    "- we have 3 categeories in feature Property_Area\n",
    "    * Semiurban    233\n",
    "    * Urban        202\n",
    "    * Rural        179\n",
    "- we have 2 categeories in feature Loan_Status\n",
    "    * Y    422\n",
    "    * N    192\n",
    "    - There is class imbalance in the target class"
   ]
  },
  {
   "cell_type": "markdown",
   "id": "6c4d816a",
   "metadata": {},
   "source": [
    "#### Finding NaN values in the Dataset"
   ]
  },
  {
   "cell_type": "code",
   "execution_count": 351,
   "id": "bc88c281",
   "metadata": {},
   "outputs": [
    {
     "data": {
      "text/plain": [
       "Gender               13\n",
       "Married               3\n",
       "Dependents           15\n",
       "Education             0\n",
       "Self_Employed        32\n",
       "ApplicantIncome       0\n",
       "CoapplicantIncome     0\n",
       "LoanAmount           22\n",
       "Loan_Amount_Term     14\n",
       "Credit_History       50\n",
       "Property_Area         0\n",
       "Loan_Status           0\n",
       "dtype: int64"
      ]
     },
     "execution_count": 351,
     "metadata": {},
     "output_type": "execute_result"
    }
   ],
   "source": [
    "df.isnull().sum()"
   ]
  },
  {
   "cell_type": "code",
   "execution_count": 352,
   "id": "c272d7d2",
   "metadata": {},
   "outputs": [
    {
     "data": {
      "text/plain": [
       "<AxesSubplot:>"
      ]
     },
     "execution_count": 352,
     "metadata": {},
     "output_type": "execute_result"
    },
    {
     "data": {
      "image/png": "[encoded data removed]",
      "text/plain": [
       "<Figure size 432x288 with 2 Axes>"
      ]
     },
     "metadata": {
      "needs_background": "light"
     },
     "output_type": "display_data"
    }
   ],
   "source": [
    "sns.heatmap(df.isnull())"
   ]
  },
  {
   "cell_type": "markdown",
   "id": "a7f8d534",
   "metadata": {},
   "source": [
    "- we have NaN values in Gender,Married,Dependents,Self_Employed,LoanAmount,Loan_Amount_Term,Credit_History"
   ]
  },
  {
   "cell_type": "code",
   "execution_count": 353,
   "id": "ad751638",
   "metadata": {},
   "outputs": [
    {
     "data": {
      "text/plain": [
       "['ApplicantIncome',\n",
       " 'CoapplicantIncome',\n",
       " 'LoanAmount',\n",
       " 'Loan_Amount_Term',\n",
       " 'Credit_History']"
      ]
     },
     "execution_count": 353,
     "metadata": {},
     "output_type": "execute_result"
    }
   ],
   "source": [
    "features_list = []\n",
    "for feature_type in df.dtypes.index:\n",
    "    if df.dtypes[feature_type] in ['int64','float64']:\n",
    "        features_list.append(feature_type)\n",
    "features_list"
   ]
  },
  {
   "cell_type": "code",
   "execution_count": 354,
   "id": "2b735070",
   "metadata": {
    "scrolled": false
   },
   "outputs": [
    {
     "name": "stdout",
     "output_type": "stream",
     "text": [
      "The unquie values in ApplicantIncome are [ 5849  4583  3000  2583  6000  5417  2333  3036  4006 12841  3200  2500\n",
      "  3073  1853  1299  4950  3596  3510  4887  2600  7660  5955  3365  3717\n",
      "  9560  2799  4226  1442  3750  4166  3167  4692  3500 12500  2275  1828\n",
      "  3667  3748  3600  1800  2400  3941  4695  3410  5649  5821  2645  4000\n",
      "  1928  3086  4230  4616 11500  2708  2132  3366  8080  3357  3029  2609\n",
      "  4945  5726 10750  7100  4300  3208  1875  4755  5266  1000  3333  3846\n",
      "  2395  1378  3988  2366  8566  5695  2958  6250  3273  4133  3620  6782\n",
      "  2484  1977  4188  1759  4288  4843 13650  4652  3816  3052 11417  7333\n",
      "  3800  2071  5316  2929  3572  7451  5050 14583  2214  5568 10408  5667\n",
      "  2137  2957  3692 23803  3865 10513  6080 20166  2014  2718  3459  4895\n",
      "  3316 14999  4200  5042  6950  2698 11757  2330 14866  1538 10000  4860\n",
      "  6277  2577  9166  2281  3254 39999  9538  2980  1863  7933  3089  4167\n",
      "  9323  3707  2439  2237  8000  1820 51763  3522  5708  4344  3497  2045\n",
      "  5516  6400  1916  4600 33846  3625 39147  2178  2383   674  9328  4885\n",
      " 12000  6033  3858  4191  3125  8333  1907  3416 11000  4923  3992  3917\n",
      "  4408  3244  3975  2479  3418  3430  7787  5703  3173  3850   150  3727\n",
      "  5000  4283  2221  4009  2971  7578  3250  4735  4758  2491  3716  3189\n",
      "  3155  5500  5746  3463  3812  3315  5819  2510  2965  3406  6050  9703\n",
      "  6608  2882  1809  1668  3427  2661 16250  3083  6045  5250 14683  4931\n",
      "  6083  2060  3481  7200  5166  4095  4708  4333  2876  3237 11146  2833\n",
      "  2620  3900  2750  3993  3103  4100  4053  3927  2301  1811 20667  3158\n",
      "  3704  4124  9508  3075  4400  3153  4416  6875  4666  2875  1625  2000\n",
      "  3762 20233  7667  2917  2927  2507  2473  3399  2058  3541  4342  3601\n",
      "  3166 15000  8666  4917  5818  4384  2935 63337  9833  5503  1830  4160\n",
      "  2647  2378  4554  2499  3523  6333  2625  9083  8750  2666  2423  3813\n",
      "  3875  5167  4723  4750  3013  6822  6216  5124  6325 19730 15759  5185\n",
      "  3062  2764  4817  4310  3069  5391  5941  7167  4566  2346  3010  5488\n",
      "  9167  9504  1993  3100  3276  3180  3033  3902  1500  2889  2755  1963\n",
      "  7441  4547  2167  2213  8300 81000  3867  6256  6096  2253  2149  2995\n",
      "  1600  1025  3246  5829  2720  7250 14880  4606  5935  2920  2717  8624\n",
      "  6500 12876  2425 10047  1926 10416  7142  3660  7901  4707 37719  3466\n",
      "  3539  3340  2769  2309  1958  3948  2483  7085  3859  4301  3708  4354\n",
      "  8334  2083  7740  3015  5191  2947 16692   210  3450  2653  4691  5532\n",
      " 16525  6700  2873 16667  4350  3095 10833  3547 18333  2435  2699  5333\n",
      "  3691 17263  3597  3326  4625  2895  6283   645  3159  4865  4050  3814\n",
      " 20833  3583 13262  3598  6065  3283  2130  5815  2031  3074  4683  3400\n",
      "  2192  5677  7948  4680 17500  3775  5285  2679  6783  4281  3588 11250\n",
      " 18165  2550  6133  3617  6417  4608  2138  3652  2239  3017  2768  3358\n",
      "  2526  2785  6633  2492  2454  3593  5468  2667 10139  3887  4180  3675\n",
      " 19484  5923  5800  8799  4467  3417  5116 16666  6125  6406  3087  3229\n",
      "  1782  3182  6540  1836  1880  2787  2297  2165  2726  9357 16120  3833\n",
      "  6383  2987  9963  5780   416  2894  3676  3987  3232  2900  4106  8072\n",
      "  7583]\n",
      "The unquie values in CoapplicantIncome are [0.00000000e+00 1.50800000e+03 2.35800000e+03 4.19600000e+03\n",
      " 1.51600000e+03 2.50400000e+03 1.52600000e+03 1.09680000e+04\n",
      " 7.00000000e+02 1.84000000e+03 8.10600000e+03 2.84000000e+03\n",
      " 1.08600000e+03 3.50000000e+03 5.62500000e+03 1.91100000e+03\n",
      " 1.91700000e+03 2.92500000e+03 2.25300000e+03 1.04000000e+03\n",
      " 2.08300000e+03 3.36900000e+03 1.66700000e+03 3.00000000e+03\n",
      " 2.06700000e+03 1.33000000e+03 1.45900000e+03 7.21000000e+03\n",
      " 1.66800000e+03 1.21300000e+03 2.33600000e+03 3.44000000e+03\n",
      " 2.27500000e+03 1.64400000e+03 1.16700000e+03 1.59100000e+03\n",
      " 2.20000000e+03 2.25000000e+03 2.85900000e+03 3.79600000e+03\n",
      " 3.44900000e+03 4.59500000e+03 2.25400000e+03 3.06600000e+03\n",
      " 1.87500000e+03 1.77400000e+03 4.75000000e+03 3.02200000e+03\n",
      " 4.00000000e+03 2.16600000e+03 1.88100000e+03 2.53100000e+03\n",
      " 2.00000000e+03 2.11800000e+03 4.16700000e+03 2.90000000e+03\n",
      " 5.65400000e+03 1.82000000e+03 2.30200000e+03 9.97000000e+02\n",
      " 3.54100000e+03 3.26300000e+03 3.80600000e+03 3.58300000e+03\n",
      " 7.54000000e+02 1.03000000e+03 1.12600000e+03 3.60000000e+03\n",
      " 2.33300000e+03 4.11400000e+03 2.28300000e+03 1.39800000e+03\n",
      " 2.14200000e+03 2.66700000e+03 8.98000000e+03 2.01400000e+03\n",
      " 1.64000000e+03 3.85000000e+03 2.56900000e+03 1.92900000e+03\n",
      " 7.75000000e+03 1.43000000e+03 2.03400000e+03 4.48600000e+03\n",
      " 1.42500000e+03 1.66600000e+03 8.30000000e+02 3.75000000e+03\n",
      " 1.04100000e+03 1.28000000e+03 1.44700000e+03 3.16600000e+03\n",
      " 3.33300000e+03 1.76900000e+03 7.36000000e+02 1.96400000e+03\n",
      " 1.61900000e+03 1.13000000e+04 1.45100000e+03 7.25000000e+03\n",
      " 5.06300000e+03 2.13800000e+03 5.29600000e+03 2.58300000e+03\n",
      " 2.36500000e+03 2.81600000e+03 2.50000000e+03 1.08300000e+03\n",
      " 1.25000000e+03 3.02100000e+03 9.83000000e+02 1.80000000e+03\n",
      " 1.77500000e+03 2.38300000e+03 1.71700000e+03 2.79100000e+03\n",
      " 1.01000000e+03 1.69500000e+03 2.05400000e+03 2.59800000e+03\n",
      " 1.77900000e+03 1.26000000e+03 5.00000000e+03 1.98300000e+03\n",
      " 5.70100000e+03 1.30000000e+03 4.41700000e+03 4.33300000e+03\n",
      " 1.84300000e+03 1.86800000e+03 3.89000000e+03 2.16700000e+03\n",
      " 7.10100000e+03 2.10000000e+03 4.25000000e+03 2.20900000e+03\n",
      " 3.44700000e+03 1.38700000e+03 1.81100000e+03 1.56000000e+03\n",
      " 1.85700000e+03 2.22300000e+03 1.84200000e+03 3.27400000e+03\n",
      " 2.42600000e+03 8.00000000e+02 9.85799988e+02 3.05300000e+03\n",
      " 2.41600000e+03 3.33400000e+03 2.54100000e+03 2.93400000e+03\n",
      " 1.75000000e+03 1.80300000e+03 1.86300000e+03 2.40500000e+03\n",
      " 2.13400000e+03 1.89000000e+02 1.59000000e+03 2.98500000e+03\n",
      " 4.98300000e+03 2.16000000e+03 2.45100000e+03 1.79300000e+03\n",
      " 1.83300000e+03 4.49000000e+03 6.88000000e+02 4.60000000e+03\n",
      " 1.58700000e+03 1.22900000e+03 2.33000000e+03 2.45800000e+03\n",
      " 3.23000000e+03 2.16800000e+03 4.58300000e+03 6.25000000e+03\n",
      " 5.05000000e+02 3.16700000e+03 3.66700000e+03 3.03300000e+03\n",
      " 5.26600000e+03 7.87300000e+03 1.98700000e+03 9.23000000e+02\n",
      " 4.99600000e+03 4.23200000e+03 1.60000000e+03 3.13600000e+03\n",
      " 2.41700000e+03 2.11500000e+03 1.62500000e+03 1.40000000e+03\n",
      " 4.84000000e+02 2.00000000e+04 2.40000000e+03 2.03300000e+03\n",
      " 3.23700000e+03 2.77300000e+03 1.41700000e+03 1.71900000e+03\n",
      " 4.30000000e+03 1.61200008e+01 2.34000000e+03 1.85100000e+03\n",
      " 1.12500000e+03 5.06400000e+03 1.99300000e+03 8.33300000e+03\n",
      " 1.21000000e+03 1.37600000e+03 1.71000000e+03 1.54200000e+03\n",
      " 1.25500000e+03 1.45600000e+03 1.73300000e+03 2.46600000e+03\n",
      " 4.08300000e+03 2.18800000e+03 1.66400000e+03 2.91700000e+03\n",
      " 2.07900000e+03 1.50000000e+03 4.64800000e+03 1.01400000e+03\n",
      " 1.87200000e+03 1.60300000e+03 3.15000000e+03 2.43600000e+03\n",
      " 2.78500000e+03 1.13100000e+03 2.15700000e+03 9.13000000e+02\n",
      " 1.70000000e+03 2.85700000e+03 4.41600000e+03 3.68300000e+03\n",
      " 5.62400000e+03 5.30200000e+03 1.48300000e+03 6.66700000e+03\n",
      " 3.01300000e+03 1.28700000e+03 2.00400000e+03 2.03500000e+03\n",
      " 6.66600000e+03 3.66600000e+03 3.42800000e+03 1.63200000e+03\n",
      " 1.91500000e+03 1.74200000e+03 1.42400000e+03 7.16600000e+03\n",
      " 2.08700000e+03 1.30200000e+03 5.50000000e+03 2.04200000e+03\n",
      " 3.90600000e+03 5.36000000e+02 2.84500000e+03 2.52400000e+03\n",
      " 6.63000000e+02 1.95000000e+03 1.78300000e+03 2.01600000e+03\n",
      " 2.37500000e+03 3.25000000e+03 4.26600000e+03 1.03200000e+03\n",
      " 2.66900000e+03 2.30600000e+03 2.42000000e+02 2.06400000e+03\n",
      " 4.61000000e+02 2.21000000e+03 2.73900000e+03 2.23200000e+03\n",
      " 3.38370000e+04 1.52200000e+03 3.41600000e+03 3.30000000e+03\n",
      " 1.00000000e+03 4.16670000e+04 2.79200000e+03 4.30100000e+03\n",
      " 3.80000000e+03 1.41100000e+03 2.40000000e+02]\n",
      "The unquie values in LoanAmount are [ nan 128.  66. 120. 141. 267.  95. 158. 168. 349.  70. 109. 200. 114.\n",
      "  17. 125. 100.  76. 133. 115. 104. 315. 116. 112. 151. 191. 122. 110.\n",
      "  35. 201.  74. 106. 320. 144. 184.  80.  47.  75. 134.  96.  88.  44.\n",
      " 286.  97. 135. 180.  99. 165. 258. 126. 312. 136. 172.  81. 187. 113.\n",
      " 176. 130. 111. 167. 265.  50. 210. 175. 131. 188.  25. 137. 160. 225.\n",
      " 216.  94. 139. 152. 118. 185. 154.  85. 259. 194.  93. 370. 182. 650.\n",
      " 102. 290.  84. 242. 129.  30. 244. 600. 255.  98. 275. 121.  63. 700.\n",
      "  87. 101. 495.  67.  73. 260. 108.  58.  48. 164. 170.  83.  90. 166.\n",
      " 124.  55.  59. 127. 214. 240.  72.  60. 138.  42. 280. 140. 155. 123.\n",
      " 279. 192. 304. 330. 150. 207. 436.  78.  54.  89. 143. 105. 132. 480.\n",
      "  56. 159. 300. 376. 117.  71. 490. 173.  46. 228. 308. 236. 570. 380.\n",
      " 296. 156. 103.  45.  65.  53. 360.  62. 218. 178. 239. 405. 148. 190.\n",
      " 149. 153. 162. 230.  86. 234. 246. 500. 186. 119. 107. 209. 208. 243.\n",
      "  40. 250. 311. 400. 161. 196. 324. 157. 145. 181.  26. 211.   9. 205.\n",
      "  36.  61. 146. 292. 142. 350. 496. 253.]\n",
      "The unquie values in Loan_Amount_Term are [360. 120. 240.  nan 180.  60. 300. 480.  36.  84.  12.]\n",
      "The unquie values in Credit_History are [ 1.  0. nan]\n"
     ]
    }
   ],
   "source": [
    "for i in features_list:\n",
    "    print(f'The unquie values in {i} are {df[i].unique()}')"
   ]
  },
  {
   "cell_type": "markdown",
   "id": "a7e54652",
   "metadata": {},
   "source": [
    "#### Filling NaN values for categeorical data using simple imputer"
   ]
  },
  {
   "cell_type": "code",
   "execution_count": 355,
   "id": "756075b0",
   "metadata": {},
   "outputs": [],
   "source": [
    "from sklearn.impute import SimpleImputer,KNNImputer "
   ]
  },
  {
   "cell_type": "code",
   "execution_count": 356,
   "id": "563bace5",
   "metadata": {},
   "outputs": [
    {
     "data": {
      "text/plain": [
       "Gender            0\n",
       "Married           0\n",
       "Dependents        0\n",
       "Self_Employed     0\n",
       "Credit_History    0\n",
       "dtype: int64"
      ]
     },
     "execution_count": 356,
     "metadata": {},
     "output_type": "execute_result"
    }
   ],
   "source": [
    "catg_ftrs_hvng_nan_values = ['Gender','Married','Dependents','Self_Employed','Credit_History']\n",
    "si = SimpleImputer(missing_values=np.nan,strategy='most_frequent',verbose=0)\n",
    "si = si.fit(df[catg_ftrs_hvng_nan_values])\n",
    "df[catg_ftrs_hvng_nan_values]  =si.transform(df[catg_ftrs_hvng_nan_values])\n",
    "df[catg_ftrs_hvng_nan_values].isnull().sum()"
   ]
  },
  {
   "cell_type": "markdown",
   "id": "6faabace",
   "metadata": {},
   "source": [
    "#### Filling NaN values for numerical data using KNN imputer"
   ]
  },
  {
   "cell_type": "code",
   "execution_count": 357,
   "id": "1e795a75",
   "metadata": {},
   "outputs": [],
   "source": [
    "num_ftrs_hvng_nan_values =['LoanAmount','Loan_Amount_Term']\n",
    "knn = KNNImputer(n_neighbors=2)\n",
    "df[num_ftrs_hvng_nan_values] = knn.fit_transform(df[num_ftrs_hvng_nan_values])"
   ]
  },
  {
   "cell_type": "markdown",
   "id": "fa08753e",
   "metadata": {},
   "source": [
    "#### Checking for nan values to confirm no NaN values are present"
   ]
  },
  {
   "cell_type": "code",
   "execution_count": 358,
   "id": "1807c104",
   "metadata": {},
   "outputs": [
    {
     "data": {
      "text/plain": [
       "<AxesSubplot:>"
      ]
     },
     "execution_count": 358,
     "metadata": {},
     "output_type": "execute_result"
    },
    {
     "data": {
      "image/png": "[encoded data removed]",
      "text/plain": [
       "<Figure size 432x288 with 2 Axes>"
      ]
     },
     "metadata": {
      "needs_background": "light"
     },
     "output_type": "display_data"
    }
   ],
   "source": [
    "sns.heatmap(df.isnull())"
   ]
  },
  {
   "cell_type": "markdown",
   "id": "c9adc141",
   "metadata": {},
   "source": [
    "- Now no null values are present in DataFrame"
   ]
  },
  {
   "cell_type": "markdown",
   "id": "ff14a915",
   "metadata": {},
   "source": [
    "##### Comparision of different features with target variables\n",
    "###### Univariate Analaysis"
   ]
  },
  {
   "cell_type": "code",
   "execution_count": 359,
   "id": "102406c1",
   "metadata": {},
   "outputs": [
    {
     "data": {
      "text/plain": [
       "<AxesSubplot:xlabel='Gender', ylabel='count'>"
      ]
     },
     "execution_count": 359,
     "metadata": {},
     "output_type": "execute_result"
    },
    {
     "data": {
      "image/png": "[encoded data removed]",
      "text/plain": [
       "<Figure size 432x288 with 1 Axes>"
      ]
     },
     "metadata": {
      "needs_background": "light"
     },
     "output_type": "display_data"
    }
   ],
   "source": [
    "sns.countplot(df['Gender'],palette='Set2')"
   ]
  },
  {
   "cell_type": "markdown",
   "id": "06c5bec3",
   "metadata": {},
   "source": [
    "- Most of the candidates are male candidates who has applied for loan"
   ]
  },
  {
   "cell_type": "code",
   "execution_count": 360,
   "id": "4ec83039",
   "metadata": {},
   "outputs": [
    {
     "data": {
      "text/plain": [
       "<AxesSubplot:xlabel='Married', ylabel='count'>"
      ]
     },
     "execution_count": 360,
     "metadata": {},
     "output_type": "execute_result"
    },
    {
     "data": {
      "image/png": "[encoded data removed]",
      "text/plain": [
       "<Figure size 432x288 with 1 Axes>"
      ]
     },
     "metadata": {
      "needs_background": "light"
     },
     "output_type": "display_data"
    }
   ],
   "source": [
    "sns.countplot(df['Married'],palette='Set2')"
   ]
  },
  {
   "cell_type": "markdown",
   "id": "1178de80",
   "metadata": {},
   "source": [
    "- Most of the candidates are married candidates who has applied for loan"
   ]
  },
  {
   "cell_type": "code",
   "execution_count": 361,
   "id": "6edcaf36",
   "metadata": {},
   "outputs": [
    {
     "data": {
      "text/plain": [
       "<AxesSubplot:xlabel='Dependents', ylabel='count'>"
      ]
     },
     "execution_count": 361,
     "metadata": {},
     "output_type": "execute_result"
    },
    {
     "data": {
      "image/png": "[encoded data removed]",
      "text/plain": [
       "<Figure size 432x288 with 1 Axes>"
      ]
     },
     "metadata": {
      "needs_background": "light"
     },
     "output_type": "display_data"
    }
   ],
   "source": [
    "sns.countplot(df['Dependents'],palette='Set2')"
   ]
  },
  {
   "cell_type": "markdown",
   "id": "43bffda9",
   "metadata": {},
   "source": [
    "- The dependents with 0 count are more in dataset\n",
    "- The dependents with 0 and 1 are equal\n",
    "- 3+ dependent count is very very less"
   ]
  },
  {
   "cell_type": "code",
   "execution_count": 362,
   "id": "528accea",
   "metadata": {},
   "outputs": [
    {
     "data": {
      "text/plain": [
       "<AxesSubplot:xlabel='Education', ylabel='count'>"
      ]
     },
     "execution_count": 362,
     "metadata": {},
     "output_type": "execute_result"
    },
    {
     "data": {
      "image/png": "[encoded data removed]",
      "text/plain": [
       "<Figure size 432x288 with 1 Axes>"
      ]
     },
     "metadata": {
      "needs_background": "light"
     },
     "output_type": "display_data"
    }
   ],
   "source": [
    "sns.countplot(df['Education'],palette='Set2')"
   ]
  },
  {
   "cell_type": "markdown",
   "id": "9874686b",
   "metadata": {},
   "source": [
    "- More applicants are graduates"
   ]
  },
  {
   "cell_type": "code",
   "execution_count": 363,
   "id": "71c1016a",
   "metadata": {},
   "outputs": [
    {
     "data": {
      "text/plain": [
       "<AxesSubplot:xlabel='Self_Employed', ylabel='count'>"
      ]
     },
     "execution_count": 363,
     "metadata": {},
     "output_type": "execute_result"
    },
    {
     "data": {
      "image/png": "[encoded data removed]",
      "text/plain": [
       "<Figure size 432x288 with 1 Axes>"
      ]
     },
     "metadata": {
      "needs_background": "light"
     },
     "output_type": "display_data"
    }
   ],
   "source": [
    "sns.countplot(df['Self_Employed'],palette='Set2')"
   ]
  },
  {
   "cell_type": "markdown",
   "id": "4a57aa21",
   "metadata": {},
   "source": [
    "- Most of the applicants are not Self Employed"
   ]
  },
  {
   "cell_type": "code",
   "execution_count": 364,
   "id": "e315c988",
   "metadata": {},
   "outputs": [
    {
     "data": {
      "text/plain": [
       "([<matplotlib.patches.Wedge at 0x7fb414eba9d0>,\n",
       "  <matplotlib.patches.Wedge at 0x7fb3e6836490>],\n",
       " [Text(-1.0045945733519528, 0.44809568530818045, 'No'),\n",
       "  Text(1.0045946153056944, -0.44809559125124654, 'Yes')],\n",
       " [Text(-0.5479606763737924, 0.24441582834991657, '86.64%'),\n",
       "  Text(0.5479606992576513, -0.24441577704613446, '13.36%')])"
      ]
     },
     "execution_count": 364,
     "metadata": {},
     "output_type": "execute_result"
    },
    {
     "data": {
      "image/png": "[encoded data removed]",
      "text/plain": [
       "<Figure size 432x288 with 1 Axes>"
      ]
     },
     "metadata": {},
     "output_type": "display_data"
    }
   ],
   "source": [
    "labels = 'No','Yes'\n",
    "fig,ax = plt.subplots()\n",
    "ax.pie(df['Self_Employed'].value_counts(),labels=labels,radius=1,autopct='%1.2f%%',shadow=True)"
   ]
  },
  {
   "cell_type": "code",
   "execution_count": 365,
   "id": "583a4884",
   "metadata": {},
   "outputs": [
    {
     "data": {
      "text/plain": [
       "([<matplotlib.patches.Wedge at 0x7fb3e6554f10>,\n",
       "  <matplotlib.patches.Wedge at 0x7fb3e63133a0>],\n",
       " [Text(-0.9879045669906418, 0.4837815276744586, '1'),\n",
       "  Text(0.9879045216957419, -0.48378162016875703, '0')],\n",
       " [Text(-0.53885703654035, 0.26388083327697737, '85.50%'),\n",
       "  Text(0.538857011834041, -0.2638808837284129, '14.50%')])"
      ]
     },
     "execution_count": 365,
     "metadata": {},
     "output_type": "execute_result"
    },
    {
     "data": {
      "image/png": "[encoded data removed]",
      "text/plain": [
       "<Figure size 432x288 with 1 Axes>"
      ]
     },
     "metadata": {},
     "output_type": "display_data"
    }
   ],
   "source": [
    "labels = 1,0\n",
    "fig,ax = plt.subplots()\n",
    "ax.pie(df['Credit_History'].value_counts(),labels=labels,radius=1,autopct='%1.2f%%',shadow=True)"
   ]
  },
  {
   "cell_type": "markdown",
   "id": "6724515d",
   "metadata": {},
   "source": [
    "- Credit_History with value 1 is more in DataSet"
   ]
  },
  {
   "cell_type": "code",
   "execution_count": 366,
   "id": "39a41d1b",
   "metadata": {},
   "outputs": [
    {
     "data": {
      "text/plain": [
       "<AxesSubplot:xlabel='Property_Area', ylabel='count'>"
      ]
     },
     "execution_count": 366,
     "metadata": {},
     "output_type": "execute_result"
    },
    {
     "data": {
      "image/png": "[encoded data removed]",
      "text/plain": [
       "<Figure size 432x288 with 1 Axes>"
      ]
     },
     "metadata": {
      "needs_background": "light"
     },
     "output_type": "display_data"
    }
   ],
   "source": [
    "sns.countplot(df['Property_Area'],palette='Set1')"
   ]
  },
  {
   "cell_type": "code",
   "execution_count": 367,
   "id": "d08bed1d",
   "metadata": {},
   "outputs": [
    {
     "data": {
      "text/plain": [
       "([<matplotlib.patches.Wedge at 0x7fb3e685a8b0>,\n",
       "  <matplotlib.patches.Wedge at 0x7fb413813580>,\n",
       "  <matplotlib.patches.Wedge at 0x7fb4138130a0>],\n",
       " [Text(0.4066109851137259, 1.0220897743275028, 'Semiurban'),\n",
       "  Text(-1.0582795633383781, -0.3000739339235115, 'Urban'),\n",
       "  Text(0.67000963198199, -0.8724030565348556, 'Rural')],\n",
       " [Text(0.22178781006203227, 0.5575035132695468, '37.95%'),\n",
       "  Text(-0.5772433981845698, -0.16367669123100625, '32.90%'),\n",
       "  Text(0.3654597992629036, -0.47585621265537575, '29.15%')])"
      ]
     },
     "execution_count": 367,
     "metadata": {},
     "output_type": "execute_result"
    },
    {
     "data": {
      "image/png": "[encoded data removed]",
      "text/plain": [
       "<Figure size 432x288 with 1 Axes>"
      ]
     },
     "metadata": {},
     "output_type": "display_data"
    }
   ],
   "source": [
    "labels = 'Semiurban','Urban','Rural'\n",
    "fig,ax = plt.subplots()\n",
    "ax.pie(df['Property_Area'].value_counts(),labels=labels,radius=1,autopct='%1.2f%%',shadow=True)"
   ]
  },
  {
   "cell_type": "markdown",
   "id": "96dde0f4",
   "metadata": {},
   "source": [
    "- Most applicants are from semiurban area followed by urban and Rural"
   ]
  },
  {
   "cell_type": "code",
   "execution_count": 368,
   "id": "65adf18e",
   "metadata": {},
   "outputs": [
    {
     "data": {
      "text/plain": [
       "([<matplotlib.patches.Wedge at 0x7fb41370a400>,\n",
       "  <matplotlib.patches.Wedge at 0x7fb415440e50>],\n",
       " [Text(-0.6105420895241798, 0.9150072988339758, 'Y'),\n",
       "  Text(0.6105420038550106, -0.9150073559970479, 'N')],\n",
       " [Text(-0.33302295792227987, 0.49909489027307763, '68.73%'),\n",
       "  Text(0.3330229111936421, -0.49909492145293516, '31.27%')])"
      ]
     },
     "execution_count": 368,
     "metadata": {},
     "output_type": "execute_result"
    },
    {
     "data": {
      "image/png": "[encoded data removed]",
      "text/plain": [
       "<Figure size 432x288 with 1 Axes>"
      ]
     },
     "metadata": {},
     "output_type": "display_data"
    }
   ],
   "source": [
    "labels = 'Y','N'\n",
    "fig,ax = plt.subplots()\n",
    "ax.pie(df['Loan_Status'].value_counts(),labels=labels,radius=1,autopct='%1.2f%%',shadow=True)"
   ]
  },
  {
   "cell_type": "markdown",
   "id": "2f874f60",
   "metadata": {},
   "source": [
    "- 68.73% people has got Loan"
   ]
  },
  {
   "cell_type": "markdown",
   "id": "6bf73080",
   "metadata": {},
   "source": [
    "###### Bivariate Analaysis"
   ]
  },
  {
   "cell_type": "code",
   "execution_count": 369,
   "id": "e734657a",
   "metadata": {},
   "outputs": [
    {
     "data": {
      "text/plain": [
       "<AxesSubplot:xlabel='Gender', ylabel='count'>"
      ]
     },
     "execution_count": 369,
     "metadata": {},
     "output_type": "execute_result"
    },
    {
     "data": {
      "image/png": "[encoded data removed]",
      "text/plain": [
       "<Figure size 432x288 with 1 Axes>"
      ]
     },
     "metadata": {
      "needs_background": "light"
     },
     "output_type": "display_data"
    }
   ],
   "source": [
    "sns.countplot(x='Gender',hue='Loan_Status',data = df)"
   ]
  },
  {
   "cell_type": "markdown",
   "id": "b4a6ca69",
   "metadata": {},
   "source": [
    "- Most of male candiates applied for loan\n",
    "- In those applications most of them had got loan"
   ]
  },
  {
   "cell_type": "code",
   "execution_count": 370,
   "id": "f0aa8e6a",
   "metadata": {},
   "outputs": [
    {
     "data": {
      "text/plain": [
       "<AxesSubplot:xlabel='Married', ylabel='count'>"
      ]
     },
     "execution_count": 370,
     "metadata": {},
     "output_type": "execute_result"
    },
    {
     "data": {
      "image/png": "[encoded data removed]",
      "text/plain": [
       "<Figure size 432x288 with 1 Axes>"
      ]
     },
     "metadata": {
      "needs_background": "light"
     },
     "output_type": "display_data"
    }
   ],
   "source": [
    "sns.countplot(x='Married',hue='Loan_Status',data = df)"
   ]
  },
  {
   "cell_type": "markdown",
   "id": "a3da26a8",
   "metadata": {},
   "source": [
    "- Most of Married candiates applied for loan\n",
    "- In those candiates most of them had got loan"
   ]
  },
  {
   "cell_type": "code",
   "execution_count": 371,
   "id": "6bc67774",
   "metadata": {},
   "outputs": [
    {
     "data": {
      "text/plain": [
       "<AxesSubplot:xlabel='Dependents', ylabel='count'>"
      ]
     },
     "execution_count": 371,
     "metadata": {},
     "output_type": "execute_result"
    },
    {
     "data": {
      "image/png": "[encoded data removed]",
      "text/plain": [
       "<Figure size 432x288 with 1 Axes>"
      ]
     },
     "metadata": {
      "needs_background": "light"
     },
     "output_type": "display_data"
    }
   ],
   "source": [
    "sns.countplot(x='Dependents',hue='Loan_Status',data = df)"
   ]
  },
  {
   "cell_type": "markdown",
   "id": "caa471f8",
   "metadata": {},
   "source": [
    "- Most of the candidates have no dependents\n",
    "- out of those most of the applicants got the loan"
   ]
  },
  {
   "cell_type": "code",
   "execution_count": 372,
   "id": "6d375674",
   "metadata": {},
   "outputs": [
    {
     "data": {
      "text/plain": [
       "<AxesSubplot:xlabel='Education', ylabel='count'>"
      ]
     },
     "execution_count": 372,
     "metadata": {},
     "output_type": "execute_result"
    },
    {
     "data": {
      "image/png": "[encoded data removed]",
      "text/plain": [
       "<Figure size 432x288 with 1 Axes>"
      ]
     },
     "metadata": {
      "needs_background": "light"
     },
     "output_type": "display_data"
    }
   ],
   "source": [
    "sns.countplot(x='Education',hue='Loan_Status',data = df)"
   ]
  },
  {
   "cell_type": "markdown",
   "id": "7f173c57",
   "metadata": {},
   "source": [
    "- Most of the applicants are graduates\n",
    "- In the total graduates most of them had got loan,30-40% didnot get the loan"
   ]
  },
  {
   "cell_type": "code",
   "execution_count": 373,
   "id": "508727bd",
   "metadata": {},
   "outputs": [
    {
     "data": {
      "text/plain": [
       "<AxesSubplot:xlabel='Self_Employed', ylabel='count'>"
      ]
     },
     "execution_count": 373,
     "metadata": {},
     "output_type": "execute_result"
    },
    {
     "data": {
      "image/png": "[encoded data removed]",
      "text/plain": [
       "<Figure size 432x288 with 1 Axes>"
      ]
     },
     "metadata": {
      "needs_background": "light"
     },
     "output_type": "display_data"
    }
   ],
   "source": [
    "sns.countplot(x='Self_Employed',hue='Loan_Status',data = df)"
   ]
  },
  {
   "cell_type": "markdown",
   "id": "e621a0fa",
   "metadata": {},
   "source": [
    "- Most of the candidates are not self-employed and got the loan 50% have rejections too.\n",
    "- The people are less in count for self employed people most of them got loan compared to non self employed candidates"
   ]
  },
  {
   "cell_type": "code",
   "execution_count": 374,
   "id": "80fdb684",
   "metadata": {},
   "outputs": [
    {
     "data": {
      "text/plain": [
       "<AxesSubplot:xlabel='Credit_History', ylabel='count'>"
      ]
     },
     "execution_count": 374,
     "metadata": {},
     "output_type": "execute_result"
    },
    {
     "data": {
      "image/png": "[encoded data removed]",
      "text/plain": [
       "<Figure size 432x288 with 1 Axes>"
      ]
     },
     "metadata": {
      "needs_background": "light"
     },
     "output_type": "display_data"
    }
   ],
   "source": [
    "sns.countplot(x='Credit_History',hue='Loan_Status',data = df)"
   ]
  },
  {
   "cell_type": "markdown",
   "id": "9476d117",
   "metadata": {},
   "source": [
    "- Most of the people have 1 as the credit history and has good count of loan approvals.\n",
    "- There is very less rate for 0 variable and has lot of loan rejections"
   ]
  },
  {
   "cell_type": "code",
   "execution_count": 375,
   "id": "e0049c8a",
   "metadata": {},
   "outputs": [
    {
     "data": {
      "text/plain": [
       "<AxesSubplot:xlabel='Property_Area', ylabel='count'>"
      ]
     },
     "execution_count": 375,
     "metadata": {},
     "output_type": "execute_result"
    },
    {
     "data": {
      "image/png": "[encoded data removed]",
      "text/plain": [
       "<Figure size 432x288 with 1 Axes>"
      ]
     },
     "metadata": {
      "needs_background": "light"
     },
     "output_type": "display_data"
    }
   ],
   "source": [
    "sns.countplot(x='Property_Area',hue='Loan_Status',data = df)"
   ]
  },
  {
   "cell_type": "markdown",
   "id": "54f87997",
   "metadata": {},
   "source": [
    "- Most of the people are from semi urban area and has good loan approvals\n",
    "- Rural area has less applicants with high rejections\n",
    "- Urban area applicants are having equal 75% approvals and 25% rejections"
   ]
  },
  {
   "cell_type": "markdown",
   "id": "ca18e756",
   "metadata": {},
   "source": [
    "#### Checking for skewness in the numerical data"
   ]
  },
  {
   "cell_type": "code",
   "execution_count": 376,
   "id": "5be27896",
   "metadata": {},
   "outputs": [
    {
     "data": {
      "image/png": "[encoded data removed]",
      "text/plain": [
       "<Figure size 720x720 with 4 Axes>"
      ]
     },
     "metadata": {},
     "output_type": "display_data"
    }
   ],
   "source": [
    "num_featres = ['ApplicantIncome','CoapplicantIncome','LoanAmount','Loan_Amount_Term']\n",
    "plt.figure(figsize=(10,10),facecolor='white')\n",
    "plotnum = 1\n",
    "for i in num_featres:\n",
    "    if plotnum <=4:\n",
    "        plt.subplot(2,2,plotnum)\n",
    "        sns.distplot(df[i])\n",
    "        plt.xlabel(i,fontsize=10)\n",
    "    plotnum+=1\n",
    "plt.show()"
   ]
  },
  {
   "cell_type": "markdown",
   "id": "453af55a",
   "metadata": {},
   "source": [
    "- all the 4 features has skewness in the data"
   ]
  },
  {
   "cell_type": "code",
   "execution_count": 377,
   "id": "6988a1ac",
   "metadata": {},
   "outputs": [
    {
     "data": {
      "text/plain": [
       "ApplicantIncome      6.539513\n",
       "CoapplicantIncome    7.491531\n",
       "LoanAmount           2.731705\n",
       "Loan_Amount_Term    -2.373210\n",
       "Credit_History      -2.021971\n",
       "dtype: float64"
      ]
     },
     "execution_count": 377,
     "metadata": {},
     "output_type": "execute_result"
    }
   ],
   "source": [
    "df.skew()"
   ]
  },
  {
   "cell_type": "markdown",
   "id": "28fe94c5",
   "metadata": {},
   "source": [
    "#### Checking for outliers in data"
   ]
  },
  {
   "cell_type": "code",
   "execution_count": 378,
   "id": "efc647cf",
   "metadata": {},
   "outputs": [
    {
     "data": {
      "image/png": "[encoded data removed]",
      "text/plain": [
       "<Figure size 1440x1800 with 4 Axes>"
      ]
     },
     "metadata": {},
     "output_type": "display_data"
    }
   ],
   "source": [
    "x = df.drop(columns=['Loan_Status'])\n",
    "y = df['Loan_Status']\n",
    "plt.figure(figsize=(20,25),facecolor='white')\n",
    "plotnum = 1\n",
    "for col in x[['ApplicantIncome','CoapplicantIncome','LoanAmount','Loan_Amount_Term']]:\n",
    "    if plotnum<=6:\n",
    "        plt.subplot(4,4,plotnum)\n",
    "        sns.boxplot(x[col])\n",
    "        plt.xlabel(col,fontsize=20)\n",
    "    plotnum+=1\n",
    "plt.show()"
   ]
  },
  {
   "cell_type": "markdown",
   "id": "69456942",
   "metadata": {},
   "source": [
    "- All the features have outliers in it"
   ]
  },
  {
   "cell_type": "markdown",
   "id": "9816c877",
   "metadata": {},
   "source": [
    "#### Removing outliers using z-score method"
   ]
  },
  {
   "cell_type": "code",
   "execution_count": 379,
   "id": "b248d41d",
   "metadata": {},
   "outputs": [
    {
     "name": "stdout",
     "output_type": "stream",
     "text": [
      "(614, 4)\n",
      "(577, 4)\n"
     ]
    }
   ],
   "source": [
    "zdf = x[['ApplicantIncome','CoapplicantIncome','LoanAmount','Loan_Amount_Term']].copy()\n",
    "from scipy.stats import zscore\n",
    "zscor = zscore(zdf)\n",
    "z_score_abs = np.abs(zscor)\n",
    "zdf1 = zdf[(z_score_abs < 3).all(axis=1)]\n",
    "print(zdf.shape)\n",
    "print(zdf1.shape)"
   ]
  },
  {
   "cell_type": "code",
   "execution_count": 380,
   "id": "908782a8",
   "metadata": {},
   "outputs": [
    {
     "name": "stdout",
     "output_type": "stream",
     "text": [
      "The data loss after applying zscore 6.026058631921824\n"
     ]
    }
   ],
   "source": [
    "print('The data loss after applying zscore',(614-577)/614 * 100 )"
   ]
  },
  {
   "cell_type": "markdown",
   "id": "1729fa7e",
   "metadata": {},
   "source": [
    "##### Removing outliers using IQR method"
   ]
  },
  {
   "cell_type": "code",
   "execution_count": 381,
   "id": "c29ccd6b",
   "metadata": {},
   "outputs": [
    {
     "data": {
      "text/plain": [
       "(456, 4)"
      ]
     },
     "execution_count": 381,
     "metadata": {},
     "output_type": "execute_result"
    }
   ],
   "source": [
    "iqr_df = x[['ApplicantIncome','CoapplicantIncome','LoanAmount','Loan_Amount_Term']].copy()\n",
    "indxdrop = np.array([])\n",
    "for colmn in iqr_df:\n",
    "    q1=iqr_df[colmn].quantile(0.25)\n",
    "    q3=iqr_df[colmn].quantile(0.75)\n",
    "    iqr = q3-q1\n",
    "    upperval = q3 + (1.5*iqr)\n",
    "    lowerval = q1 - (1.5*iqr)\n",
    "    col = iqr_df[colmn]\n",
    "    indx = col[(col>upperval) | (col<lowerval)].index\n",
    "    indxdrop = np.append(indxdrop, indx)\n",
    "iqr_df = iqr_df.drop(indxdrop)\n",
    "iqr_df.shape"
   ]
  },
  {
   "cell_type": "code",
   "execution_count": 382,
   "id": "9603541a",
   "metadata": {},
   "outputs": [
    {
     "name": "stdout",
     "output_type": "stream",
     "text": [
      "The data loss after applying zscore 25.732899022801302\n"
     ]
    }
   ],
   "source": [
    "print('The data loss after applying zscore',(614-456)/614 * 100 )"
   ]
  },
  {
   "cell_type": "markdown",
   "id": "751578fb",
   "metadata": {},
   "source": [
    "Data loss is 25.73% which is not in acceptable range so going with z-score method"
   ]
  },
  {
   "cell_type": "code",
   "execution_count": 383,
   "id": "bd7c1df2",
   "metadata": {},
   "outputs": [],
   "source": [
    "dropindx = x.index.difference(zdf1.index)\n",
    "df.drop(dropindx,inplace=True)"
   ]
  },
  {
   "cell_type": "code",
   "execution_count": 384,
   "id": "1c52b002",
   "metadata": {},
   "outputs": [
    {
     "data": {
      "text/plain": [
       "(577, 12)"
      ]
     },
     "execution_count": 384,
     "metadata": {},
     "output_type": "execute_result"
    }
   ],
   "source": [
    "df.shape"
   ]
  },
  {
   "cell_type": "code",
   "execution_count": 385,
   "id": "6d7c0748",
   "metadata": {},
   "outputs": [
    {
     "data": {
      "image/png": "[encoded data removed]",
      "text/plain": [
       "<Figure size 1440x1800 with 4 Axes>"
      ]
     },
     "metadata": {},
     "output_type": "display_data"
    }
   ],
   "source": [
    "x = df.drop(columns=['Loan_Status'])\n",
    "y = df['Loan_Status']\n",
    "plt.figure(figsize=(20,25),facecolor='white')\n",
    "plotnum = 1\n",
    "for col in x[['ApplicantIncome','CoapplicantIncome','LoanAmount','Loan_Amount_Term']]:\n",
    "    if plotnum<=6:\n",
    "        plt.subplot(4,4,plotnum)\n",
    "        sns.boxplot(x[col])\n",
    "        plt.xlabel(col,fontsize=20)\n",
    "    plotnum+=1\n",
    "plt.show()"
   ]
  },
  {
   "cell_type": "markdown",
   "id": "633c90eb",
   "metadata": {},
   "source": [
    "- Some of the outliers has been removed"
   ]
  },
  {
   "cell_type": "markdown",
   "id": "68d2bf76",
   "metadata": {},
   "source": [
    "#### Skewness in data"
   ]
  },
  {
   "cell_type": "code",
   "execution_count": 386,
   "id": "45c94db8",
   "metadata": {},
   "outputs": [
    {
     "data": {
      "text/plain": [
       "ApplicantIncome      2.148522\n",
       "CoapplicantIncome    1.350517\n",
       "LoanAmount           1.167275\n",
       "Loan_Amount_Term    -2.059849\n",
       "Credit_History      -1.976043\n",
       "dtype: float64"
      ]
     },
     "execution_count": 386,
     "metadata": {},
     "output_type": "execute_result"
    }
   ],
   "source": [
    "x.skew()"
   ]
  },
  {
   "cell_type": "markdown",
   "id": "3eabc86f",
   "metadata": {},
   "source": [
    "#### Reducing skewness using power Transformer"
   ]
  },
  {
   "cell_type": "code",
   "execution_count": 387,
   "id": "4d9b4dbd",
   "metadata": {},
   "outputs": [
    {
     "data": {
      "text/plain": [
       "ApplicantIncome      0.027981\n",
       "CoapplicantIncome   -0.191876\n",
       "LoanAmount           0.042394\n",
       "Loan_Amount_Term     0.703039\n",
       "dtype: float64"
      ]
     },
     "execution_count": 387,
     "metadata": {},
     "output_type": "execute_result"
    }
   ],
   "source": [
    "from sklearn.preprocessing import PowerTransformer\n",
    "pow_trans = PowerTransformer(method='yeo-johnson',standardize=True)\n",
    "df_pt = x[['ApplicantIncome','CoapplicantIncome','LoanAmount','Loan_Amount_Term']]\n",
    "transformed = pow_trans.fit_transform(df_pt)\n",
    "transformed = pd.DataFrame(transformed,columns=df_pt.columns)\n",
    "transformed.skew()"
   ]
  },
  {
   "cell_type": "markdown",
   "id": "7a4c5467",
   "metadata": {},
   "source": [
    "- Most of the skewness has been removed"
   ]
  },
  {
   "cell_type": "code",
   "execution_count": 388,
   "id": "8316aa5c",
   "metadata": {},
   "outputs": [
    {
     "data": {
      "text/html": [
       "<div>\n",
       "<style scoped>\n",
       "    .dataframe tbody tr th:only-of-type {\n",
       "        vertical-align: middle;\n",
       "    }\n",
       "\n",
       "    .dataframe tbody tr th {\n",
       "        vertical-align: top;\n",
       "    }\n",
       "\n",
       "    .dataframe thead th {\n",
       "        text-align: right;\n",
       "    }\n",
       "</style>\n",
       "<table border=\"1\" class=\"dataframe\">\n",
       "  <thead>\n",
       "    <tr style=\"text-align: right;\">\n",
       "      <th></th>\n",
       "      <th>Gender</th>\n",
       "      <th>Married</th>\n",
       "      <th>Dependents</th>\n",
       "      <th>Education</th>\n",
       "      <th>Self_Employed</th>\n",
       "      <th>ApplicantIncome</th>\n",
       "      <th>CoapplicantIncome</th>\n",
       "      <th>LoanAmount</th>\n",
       "      <th>Loan_Amount_Term</th>\n",
       "      <th>Credit_History</th>\n",
       "      <th>Property_Area</th>\n",
       "      <th>Loan_Status</th>\n",
       "    </tr>\n",
       "  </thead>\n",
       "  <tbody>\n",
       "    <tr>\n",
       "      <th>0</th>\n",
       "      <td>Male</td>\n",
       "      <td>No</td>\n",
       "      <td>0</td>\n",
       "      <td>Graduate</td>\n",
       "      <td>No</td>\n",
       "      <td>0.681780</td>\n",
       "      <td>-1.122446</td>\n",
       "      <td>-0.608350</td>\n",
       "      <td>0.139057</td>\n",
       "      <td>1.0</td>\n",
       "      <td>Urban</td>\n",
       "      <td>Y</td>\n",
       "    </tr>\n",
       "    <tr>\n",
       "      <th>1</th>\n",
       "      <td>Male</td>\n",
       "      <td>Yes</td>\n",
       "      <td>1</td>\n",
       "      <td>Graduate</td>\n",
       "      <td>No</td>\n",
       "      <td>0.234783</td>\n",
       "      <td>0.744117</td>\n",
       "      <td>0.029280</td>\n",
       "      <td>0.139057</td>\n",
       "      <td>1.0</td>\n",
       "      <td>Rural</td>\n",
       "      <td>N</td>\n",
       "    </tr>\n",
       "    <tr>\n",
       "      <th>2</th>\n",
       "      <td>Male</td>\n",
       "      <td>Yes</td>\n",
       "      <td>0</td>\n",
       "      <td>Graduate</td>\n",
       "      <td>Yes</td>\n",
       "      <td>-0.527201</td>\n",
       "      <td>-1.122446</td>\n",
       "      <td>-1.410600</td>\n",
       "      <td>0.139057</td>\n",
       "      <td>1.0</td>\n",
       "      <td>Urban</td>\n",
       "      <td>Y</td>\n",
       "    </tr>\n",
       "    <tr>\n",
       "      <th>3</th>\n",
       "      <td>Male</td>\n",
       "      <td>Yes</td>\n",
       "      <td>0</td>\n",
       "      <td>Not Graduate</td>\n",
       "      <td>No</td>\n",
       "      <td>-0.791972</td>\n",
       "      <td>0.895786</td>\n",
       "      <td>-0.123834</td>\n",
       "      <td>0.139057</td>\n",
       "      <td>1.0</td>\n",
       "      <td>Urban</td>\n",
       "      <td>Y</td>\n",
       "    </tr>\n",
       "    <tr>\n",
       "      <th>4</th>\n",
       "      <td>Male</td>\n",
       "      <td>No</td>\n",
       "      <td>0</td>\n",
       "      <td>Graduate</td>\n",
       "      <td>No</td>\n",
       "      <td>0.728848</td>\n",
       "      <td>-1.122446</td>\n",
       "      <td>0.264319</td>\n",
       "      <td>0.139057</td>\n",
       "      <td>1.0</td>\n",
       "      <td>Urban</td>\n",
       "      <td>Y</td>\n",
       "    </tr>\n",
       "    <tr>\n",
       "      <th>...</th>\n",
       "      <td>...</td>\n",
       "      <td>...</td>\n",
       "      <td>...</td>\n",
       "      <td>...</td>\n",
       "      <td>...</td>\n",
       "      <td>...</td>\n",
       "      <td>...</td>\n",
       "      <td>...</td>\n",
       "      <td>...</td>\n",
       "      <td>...</td>\n",
       "      <td>...</td>\n",
       "      <td>...</td>\n",
       "    </tr>\n",
       "    <tr>\n",
       "      <th>609</th>\n",
       "      <td>Female</td>\n",
       "      <td>No</td>\n",
       "      <td>0</td>\n",
       "      <td>Graduate</td>\n",
       "      <td>No</td>\n",
       "      <td>-0.587375</td>\n",
       "      <td>-1.122446</td>\n",
       "      <td>-1.265489</td>\n",
       "      <td>0.139057</td>\n",
       "      <td>1.0</td>\n",
       "      <td>Rural</td>\n",
       "      <td>Y</td>\n",
       "    </tr>\n",
       "    <tr>\n",
       "      <th>610</th>\n",
       "      <td>Male</td>\n",
       "      <td>Yes</td>\n",
       "      <td>3+</td>\n",
       "      <td>Graduate</td>\n",
       "      <td>No</td>\n",
       "      <td>0.035386</td>\n",
       "      <td>-1.122446</td>\n",
       "      <td>-2.323692</td>\n",
       "      <td>-2.544249</td>\n",
       "      <td>1.0</td>\n",
       "      <td>Rural</td>\n",
       "      <td>Y</td>\n",
       "    </tr>\n",
       "    <tr>\n",
       "      <th>611</th>\n",
       "      <td>Male</td>\n",
       "      <td>Yes</td>\n",
       "      <td>1</td>\n",
       "      <td>Graduate</td>\n",
       "      <td>No</td>\n",
       "      <td>1.281658</td>\n",
       "      <td>0.173344</td>\n",
       "      <td>1.837032</td>\n",
       "      <td>0.139057</td>\n",
       "      <td>1.0</td>\n",
       "      <td>Urban</td>\n",
       "      <td>Y</td>\n",
       "    </tr>\n",
       "    <tr>\n",
       "      <th>612</th>\n",
       "      <td>Male</td>\n",
       "      <td>Yes</td>\n",
       "      <td>2</td>\n",
       "      <td>Graduate</td>\n",
       "      <td>No</td>\n",
       "      <td>1.164426</td>\n",
       "      <td>-1.122446</td>\n",
       "      <td>0.990099</td>\n",
       "      <td>0.139057</td>\n",
       "      <td>1.0</td>\n",
       "      <td>Urban</td>\n",
       "      <td>Y</td>\n",
       "    </tr>\n",
       "    <tr>\n",
       "      <th>613</th>\n",
       "      <td>Female</td>\n",
       "      <td>No</td>\n",
       "      <td>0</td>\n",
       "      <td>Graduate</td>\n",
       "      <td>Yes</td>\n",
       "      <td>0.234783</td>\n",
       "      <td>-1.122446</td>\n",
       "      <td>0.121585</td>\n",
       "      <td>0.139057</td>\n",
       "      <td>0.0</td>\n",
       "      <td>Semiurban</td>\n",
       "      <td>N</td>\n",
       "    </tr>\n",
       "  </tbody>\n",
       "</table>\n",
       "<p>577 rows × 12 columns</p>\n",
       "</div>"
      ],
      "text/plain": [
       "     Gender Married Dependents     Education Self_Employed  ApplicantIncome  \\\n",
       "0      Male      No          0      Graduate            No         0.681780   \n",
       "1      Male     Yes          1      Graduate            No         0.234783   \n",
       "2      Male     Yes          0      Graduate           Yes        -0.527201   \n",
       "3      Male     Yes          0  Not Graduate            No        -0.791972   \n",
       "4      Male      No          0      Graduate            No         0.728848   \n",
       "..      ...     ...        ...           ...           ...              ...   \n",
       "609  Female      No          0      Graduate            No        -0.587375   \n",
       "610    Male     Yes         3+      Graduate            No         0.035386   \n",
       "611    Male     Yes          1      Graduate            No         1.281658   \n",
       "612    Male     Yes          2      Graduate            No         1.164426   \n",
       "613  Female      No          0      Graduate           Yes         0.234783   \n",
       "\n",
       "     CoapplicantIncome  LoanAmount  Loan_Amount_Term Credit_History  \\\n",
       "0            -1.122446   -0.608350          0.139057            1.0   \n",
       "1             0.744117    0.029280          0.139057            1.0   \n",
       "2            -1.122446   -1.410600          0.139057            1.0   \n",
       "3             0.895786   -0.123834          0.139057            1.0   \n",
       "4            -1.122446    0.264319          0.139057            1.0   \n",
       "..                 ...         ...               ...            ...   \n",
       "609          -1.122446   -1.265489          0.139057            1.0   \n",
       "610          -1.122446   -2.323692         -2.544249            1.0   \n",
       "611           0.173344    1.837032          0.139057            1.0   \n",
       "612          -1.122446    0.990099          0.139057            1.0   \n",
       "613          -1.122446    0.121585          0.139057            0.0   \n",
       "\n",
       "    Property_Area Loan_Status  \n",
       "0           Urban           Y  \n",
       "1           Rural           N  \n",
       "2           Urban           Y  \n",
       "3           Urban           Y  \n",
       "4           Urban           Y  \n",
       "..            ...         ...  \n",
       "609         Rural           Y  \n",
       "610         Rural           Y  \n",
       "611         Urban           Y  \n",
       "612         Urban           Y  \n",
       "613     Semiurban           N  \n",
       "\n",
       "[577 rows x 12 columns]"
      ]
     },
     "execution_count": 388,
     "metadata": {},
     "output_type": "execute_result"
    }
   ],
   "source": [
    "transformed.index = df.index\n",
    "df[['ApplicantIncome','CoapplicantIncome','LoanAmount','Loan_Amount_Term']]=transformed[['ApplicantIncome','CoapplicantIncome','LoanAmount','Loan_Amount_Term']]\n",
    "df"
   ]
  },
  {
   "cell_type": "code",
   "execution_count": 389,
   "id": "e4cb707c",
   "metadata": {},
   "outputs": [
    {
     "data": {
      "image/png": "[encoded data removed]",
      "text/plain": [
       "<Figure size 720x720 with 4 Axes>"
      ]
     },
     "metadata": {},
     "output_type": "display_data"
    }
   ],
   "source": [
    "num_featres = ['ApplicantIncome','CoapplicantIncome','LoanAmount','Loan_Amount_Term']\n",
    "plt.figure(figsize=(10,10),facecolor='white')\n",
    "plotnum = 1\n",
    "for i in num_featres:\n",
    "    if plotnum <=4:\n",
    "        plt.subplot(2,2,plotnum)\n",
    "        sns.distplot(df[i])\n",
    "        plt.xlabel(i,fontsize=10)\n",
    "    plotnum+=1\n",
    "plt.show()"
   ]
  },
  {
   "cell_type": "markdown",
   "id": "550d4b43",
   "metadata": {},
   "source": [
    "- Distributions look much more normal now"
   ]
  },
  {
   "cell_type": "code",
   "execution_count": 390,
   "id": "af17294b",
   "metadata": {},
   "outputs": [
    {
     "data": {
      "text/plain": [
       "Gender           2\n",
       "Married          2\n",
       "Education        2\n",
       "Self_Employed    2\n",
       "Property_Area    3\n",
       "dtype: int64"
      ]
     },
     "execution_count": 390,
     "metadata": {},
     "output_type": "execute_result"
    }
   ],
   "source": [
    "x[['Gender','Married','Education','Self_Employed','Property_Area']].nunique()"
   ]
  },
  {
   "cell_type": "code",
   "execution_count": 391,
   "id": "9ede2c61",
   "metadata": {},
   "outputs": [],
   "source": [
    "dumm = pd.get_dummies(x[['Gender','Married','Education','Self_Employed','Property_Area']])"
   ]
  },
  {
   "cell_type": "code",
   "execution_count": 392,
   "id": "b07b4959",
   "metadata": {},
   "outputs": [
    {
     "data": {
      "text/html": [
       "<div>\n",
       "<style scoped>\n",
       "    .dataframe tbody tr th:only-of-type {\n",
       "        vertical-align: middle;\n",
       "    }\n",
       "\n",
       "    .dataframe tbody tr th {\n",
       "        vertical-align: top;\n",
       "    }\n",
       "\n",
       "    .dataframe thead th {\n",
       "        text-align: right;\n",
       "    }\n",
       "</style>\n",
       "<table border=\"1\" class=\"dataframe\">\n",
       "  <thead>\n",
       "    <tr style=\"text-align: right;\">\n",
       "      <th></th>\n",
       "      <th>Gender_Female</th>\n",
       "      <th>Gender_Male</th>\n",
       "      <th>Married_No</th>\n",
       "      <th>Married_Yes</th>\n",
       "      <th>Education_Graduate</th>\n",
       "      <th>Education_Not Graduate</th>\n",
       "      <th>Self_Employed_No</th>\n",
       "      <th>Self_Employed_Yes</th>\n",
       "      <th>Property_Area_Rural</th>\n",
       "      <th>Property_Area_Semiurban</th>\n",
       "      <th>Property_Area_Urban</th>\n",
       "    </tr>\n",
       "  </thead>\n",
       "  <tbody>\n",
       "    <tr>\n",
       "      <th>0</th>\n",
       "      <td>0</td>\n",
       "      <td>1</td>\n",
       "      <td>1</td>\n",
       "      <td>0</td>\n",
       "      <td>1</td>\n",
       "      <td>0</td>\n",
       "      <td>1</td>\n",
       "      <td>0</td>\n",
       "      <td>0</td>\n",
       "      <td>0</td>\n",
       "      <td>1</td>\n",
       "    </tr>\n",
       "    <tr>\n",
       "      <th>1</th>\n",
       "      <td>0</td>\n",
       "      <td>1</td>\n",
       "      <td>0</td>\n",
       "      <td>1</td>\n",
       "      <td>1</td>\n",
       "      <td>0</td>\n",
       "      <td>1</td>\n",
       "      <td>0</td>\n",
       "      <td>1</td>\n",
       "      <td>0</td>\n",
       "      <td>0</td>\n",
       "    </tr>\n",
       "    <tr>\n",
       "      <th>2</th>\n",
       "      <td>0</td>\n",
       "      <td>1</td>\n",
       "      <td>0</td>\n",
       "      <td>1</td>\n",
       "      <td>1</td>\n",
       "      <td>0</td>\n",
       "      <td>0</td>\n",
       "      <td>1</td>\n",
       "      <td>0</td>\n",
       "      <td>0</td>\n",
       "      <td>1</td>\n",
       "    </tr>\n",
       "    <tr>\n",
       "      <th>3</th>\n",
       "      <td>0</td>\n",
       "      <td>1</td>\n",
       "      <td>0</td>\n",
       "      <td>1</td>\n",
       "      <td>0</td>\n",
       "      <td>1</td>\n",
       "      <td>1</td>\n",
       "      <td>0</td>\n",
       "      <td>0</td>\n",
       "      <td>0</td>\n",
       "      <td>1</td>\n",
       "    </tr>\n",
       "    <tr>\n",
       "      <th>4</th>\n",
       "      <td>0</td>\n",
       "      <td>1</td>\n",
       "      <td>1</td>\n",
       "      <td>0</td>\n",
       "      <td>1</td>\n",
       "      <td>0</td>\n",
       "      <td>1</td>\n",
       "      <td>0</td>\n",
       "      <td>0</td>\n",
       "      <td>0</td>\n",
       "      <td>1</td>\n",
       "    </tr>\n",
       "    <tr>\n",
       "      <th>...</th>\n",
       "      <td>...</td>\n",
       "      <td>...</td>\n",
       "      <td>...</td>\n",
       "      <td>...</td>\n",
       "      <td>...</td>\n",
       "      <td>...</td>\n",
       "      <td>...</td>\n",
       "      <td>...</td>\n",
       "      <td>...</td>\n",
       "      <td>...</td>\n",
       "      <td>...</td>\n",
       "    </tr>\n",
       "    <tr>\n",
       "      <th>609</th>\n",
       "      <td>1</td>\n",
       "      <td>0</td>\n",
       "      <td>1</td>\n",
       "      <td>0</td>\n",
       "      <td>1</td>\n",
       "      <td>0</td>\n",
       "      <td>1</td>\n",
       "      <td>0</td>\n",
       "      <td>1</td>\n",
       "      <td>0</td>\n",
       "      <td>0</td>\n",
       "    </tr>\n",
       "    <tr>\n",
       "      <th>610</th>\n",
       "      <td>0</td>\n",
       "      <td>1</td>\n",
       "      <td>0</td>\n",
       "      <td>1</td>\n",
       "      <td>1</td>\n",
       "      <td>0</td>\n",
       "      <td>1</td>\n",
       "      <td>0</td>\n",
       "      <td>1</td>\n",
       "      <td>0</td>\n",
       "      <td>0</td>\n",
       "    </tr>\n",
       "    <tr>\n",
       "      <th>611</th>\n",
       "      <td>0</td>\n",
       "      <td>1</td>\n",
       "      <td>0</td>\n",
       "      <td>1</td>\n",
       "      <td>1</td>\n",
       "      <td>0</td>\n",
       "      <td>1</td>\n",
       "      <td>0</td>\n",
       "      <td>0</td>\n",
       "      <td>0</td>\n",
       "      <td>1</td>\n",
       "    </tr>\n",
       "    <tr>\n",
       "      <th>612</th>\n",
       "      <td>0</td>\n",
       "      <td>1</td>\n",
       "      <td>0</td>\n",
       "      <td>1</td>\n",
       "      <td>1</td>\n",
       "      <td>0</td>\n",
       "      <td>1</td>\n",
       "      <td>0</td>\n",
       "      <td>0</td>\n",
       "      <td>0</td>\n",
       "      <td>1</td>\n",
       "    </tr>\n",
       "    <tr>\n",
       "      <th>613</th>\n",
       "      <td>1</td>\n",
       "      <td>0</td>\n",
       "      <td>1</td>\n",
       "      <td>0</td>\n",
       "      <td>1</td>\n",
       "      <td>0</td>\n",
       "      <td>0</td>\n",
       "      <td>1</td>\n",
       "      <td>0</td>\n",
       "      <td>1</td>\n",
       "      <td>0</td>\n",
       "    </tr>\n",
       "  </tbody>\n",
       "</table>\n",
       "<p>577 rows × 11 columns</p>\n",
       "</div>"
      ],
      "text/plain": [
       "     Gender_Female  Gender_Male  Married_No  Married_Yes  Education_Graduate  \\\n",
       "0                0            1           1            0                   1   \n",
       "1                0            1           0            1                   1   \n",
       "2                0            1           0            1                   1   \n",
       "3                0            1           0            1                   0   \n",
       "4                0            1           1            0                   1   \n",
       "..             ...          ...         ...          ...                 ...   \n",
       "609              1            0           1            0                   1   \n",
       "610              0            1           0            1                   1   \n",
       "611              0            1           0            1                   1   \n",
       "612              0            1           0            1                   1   \n",
       "613              1            0           1            0                   1   \n",
       "\n",
       "     Education_Not Graduate  Self_Employed_No  Self_Employed_Yes  \\\n",
       "0                         0                 1                  0   \n",
       "1                         0                 1                  0   \n",
       "2                         0                 0                  1   \n",
       "3                         1                 1                  0   \n",
       "4                         0                 1                  0   \n",
       "..                      ...               ...                ...   \n",
       "609                       0                 1                  0   \n",
       "610                       0                 1                  0   \n",
       "611                       0                 1                  0   \n",
       "612                       0                 1                  0   \n",
       "613                       0                 0                  1   \n",
       "\n",
       "     Property_Area_Rural  Property_Area_Semiurban  Property_Area_Urban  \n",
       "0                      0                        0                    1  \n",
       "1                      1                        0                    0  \n",
       "2                      0                        0                    1  \n",
       "3                      0                        0                    1  \n",
       "4                      0                        0                    1  \n",
       "..                   ...                      ...                  ...  \n",
       "609                    1                        0                    0  \n",
       "610                    1                        0                    0  \n",
       "611                    0                        0                    1  \n",
       "612                    0                        0                    1  \n",
       "613                    0                        1                    0  \n",
       "\n",
       "[577 rows x 11 columns]"
      ]
     },
     "execution_count": 392,
     "metadata": {},
     "output_type": "execute_result"
    }
   ],
   "source": [
    "dumm"
   ]
  },
  {
   "cell_type": "code",
   "execution_count": 393,
   "id": "1c1918c4",
   "metadata": {},
   "outputs": [],
   "source": [
    "df=df.join(dumm)"
   ]
  },
  {
   "cell_type": "code",
   "execution_count": 394,
   "id": "81e774bf",
   "metadata": {},
   "outputs": [],
   "source": [
    "df.drop(columns=['Gender','Married','Education','Self_Employed','Property_Area'],inplace=True)"
   ]
  },
  {
   "cell_type": "markdown",
   "id": "6d3e610e",
   "metadata": {},
   "source": [
    "##### Encoding the dependent and Loan_Status columns"
   ]
  },
  {
   "cell_type": "code",
   "execution_count": 395,
   "id": "645f86df",
   "metadata": {},
   "outputs": [],
   "source": [
    "df['Dependents'] = df.Dependents.map({'0':0,'1':1,'2':2,'3+':3})"
   ]
  },
  {
   "cell_type": "code",
   "execution_count": 396,
   "id": "1da74c6f",
   "metadata": {},
   "outputs": [],
   "source": [
    "df['Loan_Status'] = df.Loan_Status.map({'N':0,'Y':1})"
   ]
  },
  {
   "cell_type": "markdown",
   "id": "490a7343",
   "metadata": {},
   "source": [
    "#### Correlation"
   ]
  },
  {
   "cell_type": "code",
   "execution_count": 397,
   "id": "34c0b5cd",
   "metadata": {},
   "outputs": [
    {
     "data": {
      "image/png": "[encoded data removed]",
      "text/plain": [
       "<Figure size 1080x1152 with 2 Axes>"
      ]
     },
     "metadata": {
      "needs_background": "light"
     },
     "output_type": "display_data"
    }
   ],
   "source": [
    "plt.figure(figsize=(15,16))\n",
    "sns.heatmap(df.corr(),annot=True,linewidth=1)\n",
    "plt.show()"
   ]
  },
  {
   "cell_type": "code",
   "execution_count": 398,
   "id": "c26ab13c",
   "metadata": {},
   "outputs": [
    {
     "data": {
      "text/plain": [
       "<AxesSubplot:>"
      ]
     },
     "execution_count": 398,
     "metadata": {},
     "output_type": "execute_result"
    },
    {
     "data": {
      "image/png": "[encoded data removed]",
      "text/plain": [
       "<Figure size 432x288 with 1 Axes>"
      ]
     },
     "metadata": {
      "needs_background": "light"
     },
     "output_type": "display_data"
    }
   ],
   "source": [
    "df.corr()['Loan_Status'].sort_values(ascending=False).drop(['Loan_Status']).plot(kind='bar')"
   ]
  },
  {
   "cell_type": "markdown",
   "id": "f5181dac",
   "metadata": {},
   "source": [
    "- Property_Area_Semiurban,Education_Graduate,Married_Yes,CoapplicantIncome,Self_Employed_No,dependents,Gender_Male has the positive correlation\n",
    "- ApplicationIncome,Gender_Female,LoanAmount,Self_Employed_Yes,Property_Area_urban,Loan_Amount_Term,Married_No,Education_Not_Graduate,Property_Area_Rural has negative correlation"
   ]
  },
  {
   "cell_type": "code",
   "execution_count": 399,
   "id": "034ff90d",
   "metadata": {},
   "outputs": [],
   "source": [
    "x = df.drop(columns=['Loan_Status'])\n",
    "y = df['Loan_Status']"
   ]
  },
  {
   "cell_type": "markdown",
   "id": "78609e25",
   "metadata": {},
   "source": [
    "#### Feature Selection"
   ]
  },
  {
   "cell_type": "code",
   "execution_count": 400,
   "id": "bf169524",
   "metadata": {},
   "outputs": [],
   "source": [
    "from sklearn.preprocessing import StandardScaler\n",
    "scalar = StandardScaler()\n",
    "scaled_x = scalar.fit_transform(x)"
   ]
  },
  {
   "cell_type": "markdown",
   "id": "f6c6b137",
   "metadata": {},
   "source": [
    "##### Checking multi collinearity using variation inflation factor"
   ]
  },
  {
   "cell_type": "code",
   "execution_count": 401,
   "id": "a8e7dd1d",
   "metadata": {},
   "outputs": [],
   "source": [
    "from statsmodels.stats.outliers_influence import variance_inflation_factor\n",
    "vif = pd.DataFrame()\n",
    "vif['Features']=x.columns\n",
    "vif['vif']= [variance_inflation_factor(scaled_x,i) for i in range(scaled_x.shape[1])]"
   ]
  },
  {
   "cell_type": "code",
   "execution_count": 402,
   "id": "69ee0a45",
   "metadata": {},
   "outputs": [
    {
     "data": {
      "text/html": [
       "<div>\n",
       "<style scoped>\n",
       "    .dataframe tbody tr th:only-of-type {\n",
       "        vertical-align: middle;\n",
       "    }\n",
       "\n",
       "    .dataframe tbody tr th {\n",
       "        vertical-align: top;\n",
       "    }\n",
       "\n",
       "    .dataframe thead th {\n",
       "        text-align: right;\n",
       "    }\n",
       "</style>\n",
       "<table border=\"1\" class=\"dataframe\">\n",
       "  <thead>\n",
       "    <tr style=\"text-align: right;\">\n",
       "      <th></th>\n",
       "      <th>Features</th>\n",
       "      <th>vif</th>\n",
       "    </tr>\n",
       "  </thead>\n",
       "  <tbody>\n",
       "    <tr>\n",
       "      <th>0</th>\n",
       "      <td>Dependents</td>\n",
       "      <td>1.169442</td>\n",
       "    </tr>\n",
       "    <tr>\n",
       "      <th>1</th>\n",
       "      <td>ApplicantIncome</td>\n",
       "      <td>1.736830</td>\n",
       "    </tr>\n",
       "    <tr>\n",
       "      <th>2</th>\n",
       "      <td>CoapplicantIncome</td>\n",
       "      <td>1.589587</td>\n",
       "    </tr>\n",
       "    <tr>\n",
       "      <th>3</th>\n",
       "      <td>LoanAmount</td>\n",
       "      <td>1.530059</td>\n",
       "    </tr>\n",
       "    <tr>\n",
       "      <th>4</th>\n",
       "      <td>Loan_Amount_Term</td>\n",
       "      <td>1.051552</td>\n",
       "    </tr>\n",
       "    <tr>\n",
       "      <th>5</th>\n",
       "      <td>Credit_History</td>\n",
       "      <td>1.010515</td>\n",
       "    </tr>\n",
       "    <tr>\n",
       "      <th>6</th>\n",
       "      <td>Gender_Female</td>\n",
       "      <td>inf</td>\n",
       "    </tr>\n",
       "    <tr>\n",
       "      <th>7</th>\n",
       "      <td>Gender_Male</td>\n",
       "      <td>inf</td>\n",
       "    </tr>\n",
       "    <tr>\n",
       "      <th>8</th>\n",
       "      <td>Married_No</td>\n",
       "      <td>inf</td>\n",
       "    </tr>\n",
       "    <tr>\n",
       "      <th>9</th>\n",
       "      <td>Married_Yes</td>\n",
       "      <td>inf</td>\n",
       "    </tr>\n",
       "    <tr>\n",
       "      <th>10</th>\n",
       "      <td>Education_Graduate</td>\n",
       "      <td>inf</td>\n",
       "    </tr>\n",
       "    <tr>\n",
       "      <th>11</th>\n",
       "      <td>Education_Not Graduate</td>\n",
       "      <td>inf</td>\n",
       "    </tr>\n",
       "    <tr>\n",
       "      <th>12</th>\n",
       "      <td>Self_Employed_No</td>\n",
       "      <td>inf</td>\n",
       "    </tr>\n",
       "    <tr>\n",
       "      <th>13</th>\n",
       "      <td>Self_Employed_Yes</td>\n",
       "      <td>inf</td>\n",
       "    </tr>\n",
       "    <tr>\n",
       "      <th>14</th>\n",
       "      <td>Property_Area_Rural</td>\n",
       "      <td>inf</td>\n",
       "    </tr>\n",
       "    <tr>\n",
       "      <th>15</th>\n",
       "      <td>Property_Area_Semiurban</td>\n",
       "      <td>inf</td>\n",
       "    </tr>\n",
       "    <tr>\n",
       "      <th>16</th>\n",
       "      <td>Property_Area_Urban</td>\n",
       "      <td>inf</td>\n",
       "    </tr>\n",
       "  </tbody>\n",
       "</table>\n",
       "</div>"
      ],
      "text/plain": [
       "                   Features       vif\n",
       "0                Dependents  1.169442\n",
       "1           ApplicantIncome  1.736830\n",
       "2         CoapplicantIncome  1.589587\n",
       "3                LoanAmount  1.530059\n",
       "4          Loan_Amount_Term  1.051552\n",
       "5            Credit_History  1.010515\n",
       "6             Gender_Female       inf\n",
       "7               Gender_Male       inf\n",
       "8                Married_No       inf\n",
       "9               Married_Yes       inf\n",
       "10       Education_Graduate       inf\n",
       "11   Education_Not Graduate       inf\n",
       "12         Self_Employed_No       inf\n",
       "13        Self_Employed_Yes       inf\n",
       "14      Property_Area_Rural       inf\n",
       "15  Property_Area_Semiurban       inf\n",
       "16      Property_Area_Urban       inf"
      ]
     },
     "execution_count": 402,
     "metadata": {},
     "output_type": "execute_result"
    }
   ],
   "source": [
    "vif"
   ]
  },
  {
   "cell_type": "markdown",
   "id": "036cf1b8",
   "metadata": {},
   "source": [
    "- There is no multi-collinearity with the features"
   ]
  },
  {
   "cell_type": "markdown",
   "id": "ffeb26f0",
   "metadata": {},
   "source": [
    "##### Principle component analaysis"
   ]
  },
  {
   "cell_type": "code",
   "execution_count": 403,
   "id": "f8ea69d8",
   "metadata": {},
   "outputs": [
    {
     "data": {
      "image/png": "[encoded data removed]",
      "text/plain": [
       "<Figure size 432x288 with 1 Axes>"
      ]
     },
     "metadata": {
      "needs_background": "light"
     },
     "output_type": "display_data"
    }
   ],
   "source": [
    "from sklearn.decomposition import PCA\n",
    "pca = PCA()\n",
    "principle_comp = pca.fit_transform(scaled_x)\n",
    "plt.figure()\n",
    "plt.plot(np.cumsum(pca.explained_variance_ratio_))\n",
    "plt.xlabel('Number of Components')\n",
    "plt.ylabel('Variance')\n",
    "plt.title('Explained Variance')\n",
    "plt.show()"
   ]
  },
  {
   "cell_type": "markdown",
   "id": "73d8dfb4",
   "metadata": {},
   "source": [
    "- 12 components explains mostly 95% of data"
   ]
  },
  {
   "cell_type": "code",
   "execution_count": 404,
   "id": "e770cfd8",
   "metadata": {},
   "outputs": [],
   "source": [
    "pca = PCA(n_components=11)\n",
    "new_comp=pca.fit_transform(scaled_x)\n",
    "principle_x = pd.DataFrame(new_comp,columns=np.arange(11))"
   ]
  },
  {
   "cell_type": "markdown",
   "id": "0a966f92",
   "metadata": {},
   "source": [
    "##### Selecting k-best features"
   ]
  },
  {
   "cell_type": "code",
   "execution_count": 405,
   "id": "d2d624f3",
   "metadata": {},
   "outputs": [
    {
     "name": "stdout",
     "output_type": "stream",
     "text": [
      "                    Feature       Score\n",
      "5            Credit_History  263.985861\n",
      "15  Property_Area_Semiurban   11.779492\n",
      "14      Property_Area_Rural    5.582130\n",
      "11   Education_Not Graduate    4.979459\n",
      "10       Education_Graduate    4.979459\n",
      "9               Married_Yes    4.593676\n",
      "8                Married_No    4.593676\n",
      "2         CoapplicantIncome    3.642819\n",
      "4          Loan_Amount_Term    1.865754\n",
      "16      Property_Area_Urban    1.489499\n",
      "13        Self_Employed_Yes    0.404840\n",
      "12         Self_Employed_No    0.404840\n",
      "3                LoanAmount    0.198788\n",
      "0                Dependents    0.183728\n",
      "7               Gender_Male    0.174308\n",
      "6             Gender_Female    0.174308\n",
      "1           ApplicantIncome    0.003548\n"
     ]
    }
   ],
   "source": [
    "from sklearn.feature_selection import SelectKBest, f_classif\n",
    "k_best_features = SelectKBest(score_func=f_classif, k=14)\n",
    "best_fit = k_best_features.fit(x,y)\n",
    "dfscores = pd.DataFrame(best_fit.scores_)\n",
    "dfcolumns = pd.DataFrame(x.columns)\n",
    "featureScores = pd.concat([dfcolumns,dfscores],axis = 1)\n",
    "featureScores.columns = ['Feature', 'Score']\n",
    "print(featureScores.nlargest(17,'Score'))"
   ]
  },
  {
   "cell_type": "code",
   "execution_count": 407,
   "id": "1ceff219",
   "metadata": {},
   "outputs": [],
   "source": [
    "#x_best = x.drop(columns=['ApplicantIncome',''])\n",
    "scaled_x_best = scalar.fit_transform(x)"
   ]
  },
  {
   "cell_type": "markdown",
   "id": "511b483d",
   "metadata": {},
   "source": [
    "#### Model Building\n",
    "##### Finding the best random state"
   ]
  },
  {
   "cell_type": "code",
   "execution_count": 408,
   "id": "148365ad",
   "metadata": {},
   "outputs": [
    {
     "name": "stdout",
     "output_type": "stream",
     "text": [
      "Best Accuracy is: 0.8547486033519553 on random_state: 30\n"
     ]
    }
   ],
   "source": [
    "from sklearn.model_selection import train_test_split\n",
    "from sklearn.metrics import accuracy_score\n",
    "from sklearn.linear_model import LogisticRegression\n",
    "maxAcc = 0\n",
    "maxRS=0\n",
    "for i in range(1,100):\n",
    "    x_train,x_test,y_train,y_test = train_test_split(scaled_x_best,y,test_size = .31, random_state = i,stratify = y)\n",
    "    modRF =  LogisticRegression()\n",
    "    modRF.fit(x_train,y_train)\n",
    "    pred = modRF.predict(x_test)\n",
    "    acc  = accuracy_score(y_test,pred)\n",
    "    if acc>maxAcc:\n",
    "        maxAcc=acc\n",
    "        maxRS=i\n",
    "print(f\"Best Accuracy is: {maxAcc} on random_state: {maxRS}\")"
   ]
  },
  {
   "cell_type": "code",
   "execution_count": 409,
   "id": "da975bcf",
   "metadata": {},
   "outputs": [],
   "source": [
    "x_train,x_test,y_train,y_test = train_test_split(scaled_x_best,y,test_size = .31, random_state = i,stratify = y)"
   ]
  },
  {
   "cell_type": "code",
   "execution_count": 413,
   "id": "cc387a53",
   "metadata": {},
   "outputs": [],
   "source": [
    "from sklearn.linear_model import LogisticRegression\n",
    "from sklearn.svm import SVC\n",
    "from sklearn.neighbors import KNeighborsClassifier \n",
    "from sklearn.naive_bayes import GaussianNB\n",
    "from sklearn.tree import DecisionTreeClassifier\n",
    "from sklearn.ensemble import RandomForestClassifier, GradientBoostingClassifier, AdaBoostClassifier\n",
    "from sklearn.model_selection import cross_val_score\n",
    "from sklearn.metrics import accuracy_score,r2_score,mean_squared_error,classification_report,plot_roc_curve,roc_auc_score\n",
    "from xgboost import XGBClassifier\n"
   ]
  },
  {
   "cell_type": "code",
   "execution_count": 414,
   "id": "ccd26471",
   "metadata": {
    "scrolled": false
   },
   "outputs": [
    {
     "name": "stdout",
     "output_type": "stream",
     "text": [
      "Accuracy :                precision    recall  f1-score   support\n",
      "\n",
      "           0       0.81      0.54      0.65        56\n",
      "           1       0.82      0.94      0.88       123\n",
      "\n",
      "    accuracy                           0.82       179\n",
      "   macro avg       0.81      0.74      0.76       179\n",
      "weighted avg       0.81      0.82      0.80       179\n",
      "\n",
      "R2 score of the model :  LogisticRegression() = 14.2 %\n",
      "mean squared error for model :  LogisticRegression() = 0.18435754189944134\n",
      "cross val score for model :  LogisticRegression() = 0.8145474137931035\n",
      "Roc Auc Curve 0.7394018583042973\n",
      "_______________________________________________\n",
      "Accuracy :                precision    recall  f1-score   support\n",
      "\n",
      "           0       0.88      0.50      0.64        56\n",
      "           1       0.81      0.97      0.88       123\n",
      "\n",
      "    accuracy                           0.82       179\n",
      "   macro avg       0.84      0.73      0.76       179\n",
      "weighted avg       0.83      0.82      0.80       179\n",
      "\n",
      "R2 score of the model :  SVC() = 16.8 %\n",
      "mean squared error for model :  SVC() = 0.1787709497206704\n",
      "cross val score for model :  SVC() = 0.8110991379310344\n",
      "Roc Auc Curve 0.733739837398374\n",
      "_______________________________________________\n",
      "Accuracy :                precision    recall  f1-score   support\n",
      "\n",
      "           0       0.49      0.61      0.54        56\n",
      "           1       0.80      0.71      0.75       123\n",
      "\n",
      "    accuracy                           0.68       179\n",
      "   macro avg       0.64      0.66      0.64       179\n",
      "weighted avg       0.70      0.68      0.68       179\n",
      "\n",
      "R2 score of the model :  DecisionTreeClassifier() = -50.7 %\n",
      "mean squared error for model :  DecisionTreeClassifier() = 0.3240223463687151\n",
      "cross val score for model :  DecisionTreeClassifier() = 0.7313936781609196\n",
      "Roc Auc Curve 0.6572299651567944\n",
      "_______________________________________________\n",
      "Accuracy :                precision    recall  f1-score   support\n",
      "\n",
      "           0       0.62      0.32      0.42        56\n",
      "           1       0.75      0.91      0.82       123\n",
      "\n",
      "    accuracy                           0.73       179\n",
      "   macro avg       0.68      0.62      0.62       179\n",
      "weighted avg       0.71      0.73      0.70       179\n",
      "\n",
      "R2 score of the model :  KNeighborsClassifier() = -27.3 %\n",
      "mean squared error for model :  KNeighborsClassifier() = 0.2737430167597765\n",
      "cross val score for model :  KNeighborsClassifier() = 0.7140445402298851\n",
      "Roc Auc Curve 0.6159988385598142\n",
      "_______________________________________________\n",
      "Accuracy :                precision    recall  f1-score   support\n",
      "\n",
      "           0       0.78      0.52      0.62        56\n",
      "           1       0.81      0.93      0.87       123\n",
      "\n",
      "    accuracy                           0.80       179\n",
      "   macro avg       0.80      0.73      0.75       179\n",
      "weighted avg       0.80      0.80      0.79       179\n",
      "\n",
      "R2 score of the model :  RandomForestClassifier() = 9.0 %\n",
      "mean squared error for model :  RandomForestClassifier() = 0.19553072625698323\n",
      "cross val score for model :  RandomForestClassifier() = 0.8023946360153257\n",
      "Roc Auc Curve 0.7264082462253194\n",
      "_______________________________________________\n",
      "Accuracy :                precision    recall  f1-score   support\n",
      "\n",
      "           0       0.76      0.55      0.64        56\n",
      "           1       0.82      0.92      0.87       123\n",
      "\n",
      "    accuracy                           0.80       179\n",
      "   macro avg       0.79      0.74      0.75       179\n",
      "weighted avg       0.80      0.80      0.79       179\n",
      "\n",
      "R2 score of the model :  GaussianNB() = 9.0 %\n",
      "mean squared error for model :  GaussianNB() = 0.19553072625698323\n",
      "cross val score for model :  GaussianNB() = 0.80415469348659\n",
      "Roc Auc Curve 0.7361353077816493\n",
      "_______________________________________________\n",
      "Accuracy :                precision    recall  f1-score   support\n",
      "\n",
      "           0       0.76      0.50      0.60        56\n",
      "           1       0.80      0.93      0.86       123\n",
      "\n",
      "    accuracy                           0.79       179\n",
      "   macro avg       0.78      0.71      0.73       179\n",
      "weighted avg       0.79      0.79      0.78       179\n",
      "\n",
      "R2 score of the model :  GradientBoostingClassifier() = 3.8 %\n",
      "mean squared error for model :  GradientBoostingClassifier() = 0.20670391061452514\n",
      "cross val score for model :  GradientBoostingClassifier() = 0.7781968390804599\n",
      "Roc Auc Curve 0.7134146341463414\n",
      "_______________________________________________\n",
      "Accuracy :                precision    recall  f1-score   support\n",
      "\n",
      "           0       0.70      0.50      0.58        56\n",
      "           1       0.80      0.90      0.85       123\n",
      "\n",
      "    accuracy                           0.78       179\n",
      "   macro avg       0.75      0.70      0.72       179\n",
      "weighted avg       0.77      0.78      0.76       179\n",
      "\n",
      "R2 score of the model :  AdaBoostClassifier() = -3.9 %\n",
      "mean squared error for model :  AdaBoostClassifier() = 0.22346368715083798\n",
      "cross val score for model :  AdaBoostClassifier() = 0.7661159003831417\n",
      "Roc Auc Curve 0.7012195121951219\n",
      "_______________________________________________\n"
     ]
    }
   ],
   "source": [
    "models = [LogisticRegression(),SVC(),DecisionTreeClassifier(),KNeighborsClassifier(),RandomForestClassifier(),GaussianNB(),GradientBoostingClassifier(),AdaBoostClassifier()]\n",
    "def compare_models():\n",
    "    for model in models:\n",
    "        \n",
    "        model.fit(x_train,y_train)\n",
    "        model_predict = model.predict(x_test)\n",
    "        accurcy = classification_report(y_test,model_predict)\n",
    "        score_r2 = r2_score(y_test, model_predict)\n",
    "        mean_error = mean_squared_error(y_test, model_predict)\n",
    "        crossval_score = cross_val_score(model,x,y,cv=4).mean()\n",
    "        print('Accuracy : ',accurcy)\n",
    "        print(\"R2 score of the model : \",model,\"=\",round(score_r2*100,1),\"%\")\n",
    "        print(\"mean squared error for model : \",model,\"=\",mean_error)\n",
    "        print(\"cross val score for model : \",model, \"=\",crossval_score)\n",
    "        print('Roc Auc Curve',roc_auc_score(y_test, model_predict))\n",
    "        print('_______________________________________________')\n",
    "compare_models()"
   ]
  },
  {
   "cell_type": "markdown",
   "id": "5b30bf15",
   "metadata": {},
   "source": [
    "- Based on above results we can say that Logistic regression is best model for the data"
   ]
  },
  {
   "cell_type": "markdown",
   "id": "3a8e5cfd",
   "metadata": {},
   "source": [
    "ROC AUC curves"
   ]
  },
  {
   "cell_type": "code",
   "execution_count": 416,
   "id": "0d827dd5",
   "metadata": {},
   "outputs": [
    {
     "data": {
      "image/png": "[encoded data removed]",
      "text/plain": [
       "<Figure size 432x288 with 1 Axes>"
      ]
     },
     "metadata": {
      "needs_background": "light"
     },
     "output_type": "display_data"
    }
   ],
   "source": [
    "disp = plot_roc_curve(RandomForestClassifier().fit(x_train,y_train),x_test,y_test)\n",
    "for i in models:\n",
    "    plot_roc_curve(i,x_test,y_test, ax=disp.ax_)\n",
    "plt.legend(prop={'size':10},loc='lower right')\n",
    "plt.show()"
   ]
  },
  {
   "cell_type": "markdown",
   "id": "ad0824ff",
   "metadata": {},
   "source": [
    "#### Hyper Parameter Tuning"
   ]
  },
  {
   "cell_type": "code",
   "execution_count": 417,
   "id": "70f9a272",
   "metadata": {},
   "outputs": [],
   "source": [
    "from sklearn.model_selection import GridSearchCV"
   ]
  },
  {
   "cell_type": "code",
   "execution_count": 419,
   "id": "6e1feec0",
   "metadata": {},
   "outputs": [
    {
     "name": "stdout",
     "output_type": "stream",
     "text": [
      "Fitting 5 folds for each of 128 candidates, totalling 640 fits\n"
     ]
    },
    {
     "name": "stderr",
     "output_type": "stream",
     "text": [
      "/opt/anaconda3/lib/python3.9/site-packages/sklearn/linear_model/_logistic.py:1113: UserWarning: Setting penalty='none' will ignore the C and l1_ratio parameters\n",
      "  warnings.warn(\n",
      "/opt/anaconda3/lib/python3.9/site-packages/sklearn/linear_model/_logistic.py:1113: UserWarning: Setting penalty='none' will ignore the C and l1_ratio parameters\n",
      "  warnings.warn(\n",
      "/opt/anaconda3/lib/python3.9/site-packages/sklearn/linear_model/_logistic.py:1113: UserWarning: Setting penalty='none' will ignore the C and l1_ratio parameters\n",
      "  warnings.warn(\n",
      "/opt/anaconda3/lib/python3.9/site-packages/sklearn/linear_model/_logistic.py:1113: UserWarning: Setting penalty='none' will ignore the C and l1_ratio parameters\n",
      "  warnings.warn(\n",
      "/opt/anaconda3/lib/python3.9/site-packages/sklearn/linear_model/_logistic.py:1113: UserWarning: Setting penalty='none' will ignore the C and l1_ratio parameters\n",
      "  warnings.warn(\n",
      "/opt/anaconda3/lib/python3.9/site-packages/sklearn/linear_model/_logistic.py:1113: UserWarning: Setting penalty='none' will ignore the C and l1_ratio parameters\n",
      "  warnings.warn(\n",
      "/opt/anaconda3/lib/python3.9/site-packages/sklearn/linear_model/_logistic.py:1113: UserWarning: Setting penalty='none' will ignore the C and l1_ratio parameters\n",
      "  warnings.warn(\n",
      "/opt/anaconda3/lib/python3.9/site-packages/sklearn/linear_model/_logistic.py:1113: UserWarning: Setting penalty='none' will ignore the C and l1_ratio parameters\n",
      "  warnings.warn(\n",
      "/opt/anaconda3/lib/python3.9/site-packages/sklearn/linear_model/_logistic.py:1113: UserWarning: Setting penalty='none' will ignore the C and l1_ratio parameters\n",
      "  warnings.warn(\n",
      "/opt/anaconda3/lib/python3.9/site-packages/sklearn/linear_model/_logistic.py:1113: UserWarning: Setting penalty='none' will ignore the C and l1_ratio parameters\n",
      "  warnings.warn(\n",
      "/opt/anaconda3/lib/python3.9/site-packages/sklearn/linear_model/_logistic.py:1113: UserWarning: Setting penalty='none' will ignore the C and l1_ratio parameters\n",
      "  warnings.warn(\n",
      "/opt/anaconda3/lib/python3.9/site-packages/sklearn/linear_model/_logistic.py:1113: UserWarning: Setting penalty='none' will ignore the C and l1_ratio parameters\n",
      "  warnings.warn(\n",
      "/opt/anaconda3/lib/python3.9/site-packages/sklearn/linear_model/_logistic.py:1113: UserWarning: Setting penalty='none' will ignore the C and l1_ratio parameters\n",
      "  warnings.warn(\n",
      "/opt/anaconda3/lib/python3.9/site-packages/sklearn/linear_model/_logistic.py:1113: UserWarning: Setting penalty='none' will ignore the C and l1_ratio parameters\n",
      "  warnings.warn(\n",
      "/opt/anaconda3/lib/python3.9/site-packages/sklearn/linear_model/_logistic.py:1113: UserWarning: Setting penalty='none' will ignore the C and l1_ratio parameters\n",
      "  warnings.warn(\n",
      "/opt/anaconda3/lib/python3.9/site-packages/sklearn/linear_model/_logistic.py:1113: UserWarning: Setting penalty='none' will ignore the C and l1_ratio parameters\n",
      "  warnings.warn(\n",
      "/opt/anaconda3/lib/python3.9/site-packages/sklearn/linear_model/_logistic.py:1113: UserWarning: Setting penalty='none' will ignore the C and l1_ratio parameters\n",
      "  warnings.warn(\n",
      "/opt/anaconda3/lib/python3.9/site-packages/sklearn/linear_model/_logistic.py:1113: UserWarning: Setting penalty='none' will ignore the C and l1_ratio parameters\n",
      "  warnings.warn(\n",
      "/opt/anaconda3/lib/python3.9/site-packages/sklearn/linear_model/_logistic.py:1113: UserWarning: Setting penalty='none' will ignore the C and l1_ratio parameters\n",
      "  warnings.warn(\n",
      "/opt/anaconda3/lib/python3.9/site-packages/sklearn/linear_model/_logistic.py:1113: UserWarning: Setting penalty='none' will ignore the C and l1_ratio parameters\n",
      "  warnings.warn(\n",
      "/opt/anaconda3/lib/python3.9/site-packages/sklearn/linear_model/_logistic.py:1113: UserWarning: Setting penalty='none' will ignore the C and l1_ratio parameters\n",
      "  warnings.warn(\n",
      "/opt/anaconda3/lib/python3.9/site-packages/sklearn/linear_model/_logistic.py:1113: UserWarning: Setting penalty='none' will ignore the C and l1_ratio parameters\n",
      "  warnings.warn(\n",
      "/opt/anaconda3/lib/python3.9/site-packages/sklearn/linear_model/_logistic.py:1113: UserWarning: Setting penalty='none' will ignore the C and l1_ratio parameters\n",
      "  warnings.warn(\n",
      "/opt/anaconda3/lib/python3.9/site-packages/sklearn/linear_model/_logistic.py:1113: UserWarning: Setting penalty='none' will ignore the C and l1_ratio parameters\n",
      "  warnings.warn(\n",
      "/opt/anaconda3/lib/python3.9/site-packages/sklearn/linear_model/_logistic.py:1113: UserWarning: Setting penalty='none' will ignore the C and l1_ratio parameters\n",
      "  warnings.warn(\n",
      "/opt/anaconda3/lib/python3.9/site-packages/sklearn/linear_model/_logistic.py:1113: UserWarning: Setting penalty='none' will ignore the C and l1_ratio parameters\n",
      "  warnings.warn(\n",
      "/opt/anaconda3/lib/python3.9/site-packages/sklearn/linear_model/_logistic.py:1113: UserWarning: Setting penalty='none' will ignore the C and l1_ratio parameters\n",
      "  warnings.warn(\n",
      "/opt/anaconda3/lib/python3.9/site-packages/sklearn/linear_model/_logistic.py:1113: UserWarning: Setting penalty='none' will ignore the C and l1_ratio parameters\n",
      "  warnings.warn(\n",
      "/opt/anaconda3/lib/python3.9/site-packages/sklearn/linear_model/_logistic.py:1113: UserWarning: Setting penalty='none' will ignore the C and l1_ratio parameters\n",
      "  warnings.warn(\n",
      "/opt/anaconda3/lib/python3.9/site-packages/sklearn/linear_model/_logistic.py:1113: UserWarning: Setting penalty='none' will ignore the C and l1_ratio parameters\n",
      "  warnings.warn(\n",
      "/opt/anaconda3/lib/python3.9/site-packages/sklearn/linear_model/_logistic.py:1113: UserWarning: Setting penalty='none' will ignore the C and l1_ratio parameters\n",
      "  warnings.warn(\n",
      "/opt/anaconda3/lib/python3.9/site-packages/sklearn/linear_model/_logistic.py:1113: UserWarning: Setting penalty='none' will ignore the C and l1_ratio parameters\n",
      "  warnings.warn(\n",
      "/opt/anaconda3/lib/python3.9/site-packages/sklearn/linear_model/_logistic.py:1113: UserWarning: Setting penalty='none' will ignore the C and l1_ratio parameters\n",
      "  warnings.warn(\n",
      "/opt/anaconda3/lib/python3.9/site-packages/sklearn/linear_model/_logistic.py:1113: UserWarning: Setting penalty='none' will ignore the C and l1_ratio parameters\n",
      "  warnings.warn(\n",
      "/opt/anaconda3/lib/python3.9/site-packages/sklearn/linear_model/_logistic.py:1113: UserWarning: Setting penalty='none' will ignore the C and l1_ratio parameters\n",
      "  warnings.warn(\n",
      "/opt/anaconda3/lib/python3.9/site-packages/sklearn/linear_model/_logistic.py:1113: UserWarning: Setting penalty='none' will ignore the C and l1_ratio parameters\n",
      "  warnings.warn(\n",
      "/opt/anaconda3/lib/python3.9/site-packages/sklearn/linear_model/_logistic.py:1113: UserWarning: Setting penalty='none' will ignore the C and l1_ratio parameters\n",
      "  warnings.warn(\n",
      "/opt/anaconda3/lib/python3.9/site-packages/sklearn/linear_model/_logistic.py:1113: UserWarning: Setting penalty='none' will ignore the C and l1_ratio parameters\n",
      "  warnings.warn(\n",
      "/opt/anaconda3/lib/python3.9/site-packages/sklearn/linear_model/_logistic.py:1113: UserWarning: Setting penalty='none' will ignore the C and l1_ratio parameters\n",
      "  warnings.warn(\n",
      "/opt/anaconda3/lib/python3.9/site-packages/sklearn/linear_model/_logistic.py:1113: UserWarning: Setting penalty='none' will ignore the C and l1_ratio parameters\n",
      "  warnings.warn(\n",
      "/opt/anaconda3/lib/python3.9/site-packages/sklearn/linear_model/_logistic.py:1113: UserWarning: Setting penalty='none' will ignore the C and l1_ratio parameters\n",
      "  warnings.warn(\n",
      "/opt/anaconda3/lib/python3.9/site-packages/sklearn/linear_model/_logistic.py:1113: UserWarning: Setting penalty='none' will ignore the C and l1_ratio parameters\n",
      "  warnings.warn(\n",
      "/opt/anaconda3/lib/python3.9/site-packages/sklearn/linear_model/_logistic.py:1113: UserWarning: Setting penalty='none' will ignore the C and l1_ratio parameters\n",
      "  warnings.warn(\n",
      "/opt/anaconda3/lib/python3.9/site-packages/sklearn/linear_model/_logistic.py:1113: UserWarning: Setting penalty='none' will ignore the C and l1_ratio parameters\n",
      "  warnings.warn(\n",
      "/opt/anaconda3/lib/python3.9/site-packages/sklearn/linear_model/_logistic.py:1113: UserWarning: Setting penalty='none' will ignore the C and l1_ratio parameters\n",
      "  warnings.warn(\n"
     ]
    },
    {
     "name": "stdout",
     "output_type": "stream",
     "text": [
      "The best parameters are {'C': 0.0001, 'dual': False, 'fit_intercept': True, 'penalty': 'none'}\n",
      "The best Score is 0.7989240506329113\n"
     ]
    },
    {
     "name": "stderr",
     "output_type": "stream",
     "text": [
      "/opt/anaconda3/lib/python3.9/site-packages/sklearn/linear_model/_logistic.py:1113: UserWarning: Setting penalty='none' will ignore the C and l1_ratio parameters\n",
      "  warnings.warn(\n",
      "/opt/anaconda3/lib/python3.9/site-packages/sklearn/linear_model/_logistic.py:1113: UserWarning: Setting penalty='none' will ignore the C and l1_ratio parameters\n",
      "  warnings.warn(\n",
      "/opt/anaconda3/lib/python3.9/site-packages/sklearn/linear_model/_logistic.py:1113: UserWarning: Setting penalty='none' will ignore the C and l1_ratio parameters\n",
      "  warnings.warn(\n",
      "/opt/anaconda3/lib/python3.9/site-packages/sklearn/linear_model/_logistic.py:1113: UserWarning: Setting penalty='none' will ignore the C and l1_ratio parameters\n",
      "  warnings.warn(\n",
      "/opt/anaconda3/lib/python3.9/site-packages/sklearn/linear_model/_logistic.py:1113: UserWarning: Setting penalty='none' will ignore the C and l1_ratio parameters\n",
      "  warnings.warn(\n",
      "/opt/anaconda3/lib/python3.9/site-packages/sklearn/linear_model/_logistic.py:1113: UserWarning: Setting penalty='none' will ignore the C and l1_ratio parameters\n",
      "  warnings.warn(\n",
      "/opt/anaconda3/lib/python3.9/site-packages/sklearn/linear_model/_logistic.py:1113: UserWarning: Setting penalty='none' will ignore the C and l1_ratio parameters\n",
      "  warnings.warn(\n",
      "/opt/anaconda3/lib/python3.9/site-packages/sklearn/linear_model/_logistic.py:1113: UserWarning: Setting penalty='none' will ignore the C and l1_ratio parameters\n",
      "  warnings.warn(\n",
      "/opt/anaconda3/lib/python3.9/site-packages/sklearn/linear_model/_logistic.py:1113: UserWarning: Setting penalty='none' will ignore the C and l1_ratio parameters\n",
      "  warnings.warn(\n",
      "/opt/anaconda3/lib/python3.9/site-packages/sklearn/linear_model/_logistic.py:1113: UserWarning: Setting penalty='none' will ignore the C and l1_ratio parameters\n",
      "  warnings.warn(\n",
      "/opt/anaconda3/lib/python3.9/site-packages/sklearn/linear_model/_logistic.py:1113: UserWarning: Setting penalty='none' will ignore the C and l1_ratio parameters\n",
      "  warnings.warn(\n",
      "/opt/anaconda3/lib/python3.9/site-packages/sklearn/linear_model/_logistic.py:1113: UserWarning: Setting penalty='none' will ignore the C and l1_ratio parameters\n",
      "  warnings.warn(\n",
      "/opt/anaconda3/lib/python3.9/site-packages/sklearn/linear_model/_logistic.py:1113: UserWarning: Setting penalty='none' will ignore the C and l1_ratio parameters\n",
      "  warnings.warn(\n",
      "/opt/anaconda3/lib/python3.9/site-packages/sklearn/linear_model/_logistic.py:1113: UserWarning: Setting penalty='none' will ignore the C and l1_ratio parameters\n",
      "  warnings.warn(\n",
      "/opt/anaconda3/lib/python3.9/site-packages/sklearn/linear_model/_logistic.py:1113: UserWarning: Setting penalty='none' will ignore the C and l1_ratio parameters\n",
      "  warnings.warn(\n"
     ]
    }
   ],
   "source": [
    "import warnings\n",
    "warnings.filterwarnings('ignore')\n",
    "logistic_params = {'C': [0.0001,0.001,0.01,0.1,0,1,1,1.1],\n",
    "                   'penalty':['11','12','elasticnet','none'],\n",
    "                   'dual':[True,False],\n",
    "                   'fit_intercept':[True,False]\n",
    "    }\n",
    "grid_classifier = GridSearchCV(LogisticRegression(),logistic_params,cv=5,n_jobs=-1,verbose=1)\n",
    "grid_classifier.fit(x_train,y_train)\n",
    "print(f\"The best parameters are {grid_classifier.best_params_}\")\n",
    "print(f\"The best Score is {grid_classifier.best_score_}\")"
   ]
  },
  {
   "cell_type": "markdown",
   "id": "5e244a1a",
   "metadata": {},
   "source": [
    "#### Training the model with best parameters"
   ]
  },
  {
   "cell_type": "code",
   "execution_count": 422,
   "id": "1732500d",
   "metadata": {},
   "outputs": [
    {
     "name": "stdout",
     "output_type": "stream",
     "text": [
      "81.56424581005587\n"
     ]
    }
   ],
   "source": [
    "best_model = LogisticRegression(C=0.0001,dual=False,fit_intercept=True,penalty='none')\n",
    "best_model.fit(x_train,y_train)\n",
    "logistic_pred_best = best_model.predict(x_test)\n",
    "logistic_acc = accuracy_score(y_test,logistic_pred_best)\n",
    "print(logistic_acc*100)"
   ]
  },
  {
   "cell_type": "markdown",
   "id": "f71c2eee",
   "metadata": {},
   "source": [
    "- Logistic regression has accuracy of 81.5"
   ]
  },
  {
   "cell_type": "markdown",
   "id": "6f447508",
   "metadata": {},
   "source": [
    "#### Confusion Matrix"
   ]
  },
  {
   "cell_type": "code",
   "execution_count": 423,
   "id": "61d2a84c",
   "metadata": {},
   "outputs": [],
   "source": [
    "from sklearn.metrics import confusion_matrix\n",
    "conf = confusion_matrix(y_test,logistic_pred_best)"
   ]
  },
  {
   "cell_type": "code",
   "execution_count": 424,
   "id": "74f9eb9f",
   "metadata": {},
   "outputs": [
    {
     "data": {
      "text/plain": [
       "array([[ 30,  26],\n",
       "       [  7, 116]])"
      ]
     },
     "execution_count": 424,
     "metadata": {},
     "output_type": "execute_result"
    }
   ],
   "source": [
    "conf"
   ]
  },
  {
   "cell_type": "markdown",
   "id": "1e3f9da3",
   "metadata": {},
   "source": [
    "#### Saving the model"
   ]
  },
  {
   "cell_type": "code",
   "execution_count": 425,
   "id": "7a7cb8c4",
   "metadata": {},
   "outputs": [
    {
     "data": {
      "text/plain": [
       "['Loan_app_classif.pkl']"
      ]
     },
     "execution_count": 425,
     "metadata": {},
     "output_type": "execute_result"
    }
   ],
   "source": [
    "import joblib\n",
    "joblib.dump(best_model,\"Loan_app_classif.pkl\")"
   ]
  },
  {
   "cell_type": "markdown",
   "id": "8180ada9",
   "metadata": {},
   "source": [
    "#### Loading the model"
   ]
  },
  {
   "cell_type": "code",
   "execution_count": 426,
   "id": "5689f061",
   "metadata": {},
   "outputs": [
    {
     "data": {
      "text/html": [
       "<div>\n",
       "<style scoped>\n",
       "    .dataframe tbody tr th:only-of-type {\n",
       "        vertical-align: middle;\n",
       "    }\n",
       "\n",
       "    .dataframe tbody tr th {\n",
       "        vertical-align: top;\n",
       "    }\n",
       "\n",
       "    .dataframe thead th {\n",
       "        text-align: right;\n",
       "    }\n",
       "</style>\n",
       "<table border=\"1\" class=\"dataframe\">\n",
       "  <thead>\n",
       "    <tr style=\"text-align: right;\">\n",
       "      <th></th>\n",
       "      <th>actual data</th>\n",
       "      <th>predicted value</th>\n",
       "    </tr>\n",
       "  </thead>\n",
       "  <tbody>\n",
       "    <tr>\n",
       "      <th>0</th>\n",
       "      <td>1</td>\n",
       "      <td>1</td>\n",
       "    </tr>\n",
       "    <tr>\n",
       "      <th>1</th>\n",
       "      <td>1</td>\n",
       "      <td>1</td>\n",
       "    </tr>\n",
       "    <tr>\n",
       "      <th>2</th>\n",
       "      <td>0</td>\n",
       "      <td>0</td>\n",
       "    </tr>\n",
       "    <tr>\n",
       "      <th>3</th>\n",
       "      <td>0</td>\n",
       "      <td>0</td>\n",
       "    </tr>\n",
       "    <tr>\n",
       "      <th>4</th>\n",
       "      <td>0</td>\n",
       "      <td>1</td>\n",
       "    </tr>\n",
       "    <tr>\n",
       "      <th>...</th>\n",
       "      <td>...</td>\n",
       "      <td>...</td>\n",
       "    </tr>\n",
       "    <tr>\n",
       "      <th>174</th>\n",
       "      <td>1</td>\n",
       "      <td>1</td>\n",
       "    </tr>\n",
       "    <tr>\n",
       "      <th>175</th>\n",
       "      <td>0</td>\n",
       "      <td>1</td>\n",
       "    </tr>\n",
       "    <tr>\n",
       "      <th>176</th>\n",
       "      <td>1</td>\n",
       "      <td>1</td>\n",
       "    </tr>\n",
       "    <tr>\n",
       "      <th>177</th>\n",
       "      <td>1</td>\n",
       "      <td>1</td>\n",
       "    </tr>\n",
       "    <tr>\n",
       "      <th>178</th>\n",
       "      <td>0</td>\n",
       "      <td>0</td>\n",
       "    </tr>\n",
       "  </tbody>\n",
       "</table>\n",
       "<p>179 rows × 2 columns</p>\n",
       "</div>"
      ],
      "text/plain": [
       "     actual data  predicted value\n",
       "0              1                1\n",
       "1              1                1\n",
       "2              0                0\n",
       "3              0                0\n",
       "4              0                1\n",
       "..           ...              ...\n",
       "174            1                1\n",
       "175            0                1\n",
       "176            1                1\n",
       "177            1                1\n",
       "178            0                0\n",
       "\n",
       "[179 rows x 2 columns]"
      ]
     },
     "execution_count": 426,
     "metadata": {},
     "output_type": "execute_result"
    }
   ],
   "source": [
    "mod = joblib.load(\"Loan_app_classif.pkl\")\n",
    "actual_data = np.array(y_test)\n",
    "predicted_data = np.array(mod.predict(x_test))\n",
    "df_comparision = pd.DataFrame({'actual data':actual_data,'predicted value':predicted_data})\n",
    "df_comparision"
   ]
  },
  {
   "cell_type": "code",
   "execution_count": null,
   "id": "920f5fee",
   "metadata": {},
   "outputs": [],
   "source": []
  }
 ],
 "metadata": {
  "kernelspec": {
   "display_name": "Python 3 (ipykernel)",
   "language": "python",
   "name": "python3"
  },
  "language_info": {
   "codemirror_mode": {
    "name": "ipython",
    "version": 3
   },
   "file_extension": ".py",
   "mimetype": "text/x-python",
   "name": "python",
   "nbconvert_exporter": "python",
   "pygments_lexer": "ipython3",
   "version": "3.9.7"
  }
 },
 "nbformat": 4,
 "nbformat_minor": 5
}
